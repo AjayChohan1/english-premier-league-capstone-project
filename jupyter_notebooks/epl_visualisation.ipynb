{
 "cells": [
  {
   "cell_type": "markdown",
   "id": "35cf3261",
   "metadata": {},
   "source": [
    "📊 **EPL Visualisations Notebook**\n",
    "- This notebook provides an exploratory data analysis (EDA) of English Premier League (EPL) match data. It focuses on key aspects of team and match performance using visual insights."
   ]
  },
  {
   "cell_type": "code",
   "execution_count": 1,
   "id": "245ff3b8",
   "metadata": {},
   "outputs": [],
   "source": [
    "import pandas as pd\n",
    "import matplotlib.pyplot as plt"
   ]
  },
  {
   "cell_type": "code",
   "execution_count": null,
   "id": "e9a811de",
   "metadata": {},
   "outputs": [],
   "source": []
  }
 ],
 "metadata": {
  "kernelspec": {
   "display_name": ".venv",
   "language": "python",
   "name": "python3"
  },
  "language_info": {
   "codemirror_mode": {
    "name": "ipython",
    "version": 3
   },
   "file_extension": ".py",
   "mimetype": "text/x-python",
   "name": "python",
   "nbconvert_exporter": "python",
   "pygments_lexer": "ipython3",
   "version": "3.12.8"
  }
 },
 "nbformat": 4,
 "nbformat_minor": 5
}

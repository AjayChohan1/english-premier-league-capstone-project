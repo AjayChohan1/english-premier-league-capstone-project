{
 "cells": [
  {
   "cell_type": "markdown",
   "id": "35cf3261",
   "metadata": {},
   "source": [
    "# 📊 **EPL Visualisations: English Premier League (EPL) — Exploratory Data Analysis**\n",
    "- This notebook provides an exploratory data analysis (EDA) of English Premier League (EPL) match data. It focuses on key aspects of team and match performance using visual insights.\n",
    "\n",
    "# Objectives\n",
    "\n",
    "- **Understand Performance Trends:** Analyze match outcomes, goal patterns, and seasonal fluctuations to assess team strengths and weaknesses.\n",
    "- **Evaluate Home vs Away Impact:** Quantify home-field advantage through goal and win distributions.\n",
    "- **Identify Top Performers:** Rank teams by goals scored, points per match, and consistency over the season.\n",
    "- **Assess Playing Styles:** Use clustering to categorize teams into high-scoring, defensive, and balanced profiles.\n",
    "- **Compare xG vs Actual Goals:** Detect overperforming or underperforming teams to support tactical and scouting decisions.\n",
    "- **Provide Actionable Insights:** Present findings in a way that supports coaches, analysts, and fans in understanding the league’s competitive landscape.\n",
    "\n",
    "# Inputs\n",
    "\n",
    "- **Dataset Source:** Cleaned EPL match dataset (CSV format) containing match-level statistics.\n",
    "- **Key Variables:**\n",
    "  - `MatchDate` — Date of the match\n",
    "  - `HomeTeam` — Home team name\n",
    "  - `AwayTeam` — Away team name\n",
    "  - `FullTimeHomeGoals` — Goals scored by the home team\n",
    "  - `FullTimeAwayGoals` — Goals scored by the away team\n",
    "  - `FullTimeResult` — Result code (H = Home Win, A = Away Win, D = Draw)\n",
    "- **Derived Features:**\n",
    "  - `Total_Goals` — Sum of home and away goals per match\n",
    "  - `Month` — Month extracted from match date\n",
    "  - Synthetic `Home_xG` & `Away_xG` — Simulated expected goals for demonstration purposes\n",
    "- **Libraries Used:** Pandas, NumPy, Matplotlib, Seaborn, Plotly, Scikit-learn\n",
    "\n",
    "# Outputs\n",
    "\n",
    "- **Bar Chart:** Total goals scored by home teams vs away teams — illustrates home advantage in scoring.  \n",
    "- **Histogram:** Distribution of total goals per match — highlights scoring patterns and typical match outcomes.  \n",
    "- **Pie Chart:** Match result distribution (home wins, away wins, draws) — reveals league competitiveness and outcome balance.  \n",
    "- **Line Plot:** Monthly average goals per match — uncovers seasonal trends affecting scoring rates.  \n",
    "- **Bar Chart:** Top 10 highest scoring teams — identifies the most prolific attacking teams across home and away games.  \n",
    "- **Heatmap:** Goal difference by team (home goals minus away goals conceded) — visualizes team dominance in home vs away contexts.  \n",
    "- **Interactive Bar Chart:** Average points earned per match by each team — ranks teams by consistent performance.  \n",
    "- **Line Plot:** Cumulative points over time for a selected team — tracks performance momentum through the season.  \n",
    "- **Scatter Plot:** Synthetic expected goals (xG) vs actual goals for home matches — compares team efficiency and finishing.  \n",
    "- **Boxplot:** Goals scored by match result type — examines goal distributions for wins, draws, and losses.  \n",
    "- **Cluster Plot:** Team grouping based on average home and away goals — reveals distinct playing styles and tactical profiles.\n",
    "\n",
    "# Additional Comments\n",
    "\n",
    "- **Data Limitations:** The dataset may not include the latest seasons or detailed player-level data. Synthetic xG values are for demonstration and not official metrics, so interpret with caution.  \n",
    "- **Analysis Scope:** Focused on team-level trends and aggregate stats; more granular tactical analysis would require player tracking and possession data.  \n",
    "- **Potential Extensions:** Could add predictive modeling, use official xG data, or analyze form over multiple seasons for deeper insights.  \n",
    "- **Interactive Elements:** Enhancing with interactive dashboards (e.g., Plotly Dash, Streamlit) would allow dynamic filtering and better user engagement.  \n",
    "- **Practical Applications:** Useful for coaching, scouting, and fan insights by highlighting performance patterns and team styles.  \n",
    "- **Reproducibility:** Code is designed for clarity and repeatability; ensure dataset versions match for consistent results.\n",
    "\n",
    "\n",
    "**How to run:**\n",
    "- Open this file in JupyterLab or VS Code and run cells top-to-bottom.  \n",
    "- Make sure `../data/epl_cleaned.csv` is present, or change the path in the `DATA_PATH` variable.\n",
    "\n",
    "**What the notebook covers:**\n",
    "- Data loading and validation\n",
    "- Home vs away goal analysis\n",
    "- Match-level distributions and monthly trends\n",
    "- Team-level aggregates (top scorers, goal differences)\n",
    "- Cumulative points timeline for a chosen team\n",
    "- Points-per-match metrics\n",
    "- Synthetic xG exploration (clearly labeled as simulated)\n",
    "- Clustering analysis of team scoring profiles"
   ]
  },
  {
   "cell_type": "markdown",
   "id": "18b28f13",
   "metadata": {},
   "source": [
    "# Section 1: Check Libraries"
   ]
  },
  {
   "cell_type": "code",
   "execution_count": 1,
   "id": "78d59292",
   "metadata": {},
   "outputs": [],
   "source": [
    "import pandas as pd\n",
    "import matplotlib.pyplot as plt\n",
    "import numpy as np\n",
    "import seaborn as sns\n",
    "from sklearn.preprocessing import StandardScaler\n",
    "from sklearn.cluster import KMeans"
   ]
  },
  {
   "cell_type": "markdown",
   "id": "c5da324a",
   "metadata": {},
   "source": [
    "- We import common libraries used for EDA and visualization. \n",
    "- Plotly is included for interactive plots \n",
    "- while Matplotlib/Seaborn provide static, reproducible visuals suitable for presentations.\n",
    "- KMeans and StandardScale are used for a lightweight clustering\n",
    "- If you want to install any missing packages, run in a terminal: use 'pip install'"
   ]
  },
  {
   "cell_type": "markdown",
   "id": "3ac4ba6d",
   "metadata": {},
   "source": [
    "# Section 2: Load the CSV into a DataFrame and show a quick preview.\n",
    "-  a few basic data quality checks and create some derived columns we will\n",
    "- use through the notebook (Total_Goals, MatchDate parsed, Month, etc.)."
   ]
  },
  {
   "cell_type": "code",
   "execution_count": 2,
   "id": "d73af675",
   "metadata": {},
   "outputs": [],
   "source": [
    "# Load your cleaned EPL dataset\n",
    "df = pd.read_csv(\"../data/epl_cleaned.csv\")"
   ]
  },
  {
   "cell_type": "markdown",
   "id": "b5809c7a",
   "metadata": {},
   "source": [
    "- Preview the Data set with further rows\n",
    "- Now this is going to check the first 50 rows and with the updated now 25 Columns to get a good look of the bulk of the data"
   ]
  },
  {
   "cell_type": "code",
   "execution_count": 3,
   "id": "0b9aa9f8",
   "metadata": {},
   "outputs": [
    {
     "data": {
      "text/html": [
       "<div>\n",
       "<style scoped>\n",
       "    .dataframe tbody tr th:only-of-type {\n",
       "        vertical-align: middle;\n",
       "    }\n",
       "\n",
       "    .dataframe tbody tr th {\n",
       "        vertical-align: top;\n",
       "    }\n",
       "\n",
       "    .dataframe thead th {\n",
       "        text-align: right;\n",
       "    }\n",
       "</style>\n",
       "<table border=\"1\" class=\"dataframe\">\n",
       "  <thead>\n",
       "    <tr style=\"text-align: right;\">\n",
       "      <th></th>\n",
       "      <th>Season</th>\n",
       "      <th>MatchDate</th>\n",
       "      <th>HomeTeam</th>\n",
       "      <th>AwayTeam</th>\n",
       "      <th>FullTimeHomeGoals</th>\n",
       "      <th>FullTimeAwayGoals</th>\n",
       "      <th>FullTimeResult</th>\n",
       "      <th>HalfTimeHomeGoals</th>\n",
       "      <th>HalfTimeAwayGoals</th>\n",
       "      <th>HalfTimeResult</th>\n",
       "      <th>...</th>\n",
       "      <th>AwayCorners</th>\n",
       "      <th>HomeFouls</th>\n",
       "      <th>AwayFouls</th>\n",
       "      <th>HomeYellowCards</th>\n",
       "      <th>AwayYellowCards</th>\n",
       "      <th>HomeRedCards</th>\n",
       "      <th>AwayRedCards</th>\n",
       "      <th>Result</th>\n",
       "      <th>Goal_Diff</th>\n",
       "      <th>Total_Goals</th>\n",
       "    </tr>\n",
       "  </thead>\n",
       "  <tbody>\n",
       "    <tr>\n",
       "      <th>0</th>\n",
       "      <td>2000/01</td>\n",
       "      <td>2000-08-19</td>\n",
       "      <td>Charlton</td>\n",
       "      <td>Man City</td>\n",
       "      <td>4</td>\n",
       "      <td>0</td>\n",
       "      <td>H</td>\n",
       "      <td>2</td>\n",
       "      <td>0</td>\n",
       "      <td>H</td>\n",
       "      <td>...</td>\n",
       "      <td>6</td>\n",
       "      <td>13</td>\n",
       "      <td>12</td>\n",
       "      <td>1</td>\n",
       "      <td>2</td>\n",
       "      <td>0</td>\n",
       "      <td>0</td>\n",
       "      <td>Home Win</td>\n",
       "      <td>4</td>\n",
       "      <td>4</td>\n",
       "    </tr>\n",
       "    <tr>\n",
       "      <th>1</th>\n",
       "      <td>2000/01</td>\n",
       "      <td>2000-08-19</td>\n",
       "      <td>Chelsea</td>\n",
       "      <td>West Ham</td>\n",
       "      <td>4</td>\n",
       "      <td>2</td>\n",
       "      <td>H</td>\n",
       "      <td>1</td>\n",
       "      <td>0</td>\n",
       "      <td>H</td>\n",
       "      <td>...</td>\n",
       "      <td>7</td>\n",
       "      <td>19</td>\n",
       "      <td>14</td>\n",
       "      <td>1</td>\n",
       "      <td>2</td>\n",
       "      <td>0</td>\n",
       "      <td>0</td>\n",
       "      <td>Home Win</td>\n",
       "      <td>2</td>\n",
       "      <td>6</td>\n",
       "    </tr>\n",
       "    <tr>\n",
       "      <th>2</th>\n",
       "      <td>2000/01</td>\n",
       "      <td>2000-08-19</td>\n",
       "      <td>Coventry</td>\n",
       "      <td>Middlesbrough</td>\n",
       "      <td>1</td>\n",
       "      <td>3</td>\n",
       "      <td>A</td>\n",
       "      <td>1</td>\n",
       "      <td>1</td>\n",
       "      <td>D</td>\n",
       "      <td>...</td>\n",
       "      <td>4</td>\n",
       "      <td>15</td>\n",
       "      <td>21</td>\n",
       "      <td>5</td>\n",
       "      <td>3</td>\n",
       "      <td>1</td>\n",
       "      <td>0</td>\n",
       "      <td>Away Win</td>\n",
       "      <td>-2</td>\n",
       "      <td>4</td>\n",
       "    </tr>\n",
       "    <tr>\n",
       "      <th>3</th>\n",
       "      <td>2000/01</td>\n",
       "      <td>2000-08-19</td>\n",
       "      <td>Derby</td>\n",
       "      <td>Southampton</td>\n",
       "      <td>2</td>\n",
       "      <td>2</td>\n",
       "      <td>D</td>\n",
       "      <td>1</td>\n",
       "      <td>2</td>\n",
       "      <td>A</td>\n",
       "      <td>...</td>\n",
       "      <td>8</td>\n",
       "      <td>11</td>\n",
       "      <td>13</td>\n",
       "      <td>1</td>\n",
       "      <td>1</td>\n",
       "      <td>0</td>\n",
       "      <td>0</td>\n",
       "      <td>Draw</td>\n",
       "      <td>0</td>\n",
       "      <td>4</td>\n",
       "    </tr>\n",
       "    <tr>\n",
       "      <th>4</th>\n",
       "      <td>2000/01</td>\n",
       "      <td>2000-08-19</td>\n",
       "      <td>Leeds</td>\n",
       "      <td>Everton</td>\n",
       "      <td>2</td>\n",
       "      <td>0</td>\n",
       "      <td>H</td>\n",
       "      <td>2</td>\n",
       "      <td>0</td>\n",
       "      <td>H</td>\n",
       "      <td>...</td>\n",
       "      <td>4</td>\n",
       "      <td>21</td>\n",
       "      <td>20</td>\n",
       "      <td>1</td>\n",
       "      <td>3</td>\n",
       "      <td>0</td>\n",
       "      <td>0</td>\n",
       "      <td>Home Win</td>\n",
       "      <td>2</td>\n",
       "      <td>2</td>\n",
       "    </tr>\n",
       "    <tr>\n",
       "      <th>5</th>\n",
       "      <td>2000/01</td>\n",
       "      <td>2000-08-19</td>\n",
       "      <td>Leicester</td>\n",
       "      <td>Aston Villa</td>\n",
       "      <td>0</td>\n",
       "      <td>0</td>\n",
       "      <td>D</td>\n",
       "      <td>0</td>\n",
       "      <td>0</td>\n",
       "      <td>D</td>\n",
       "      <td>...</td>\n",
       "      <td>4</td>\n",
       "      <td>12</td>\n",
       "      <td>12</td>\n",
       "      <td>2</td>\n",
       "      <td>3</td>\n",
       "      <td>0</td>\n",
       "      <td>0</td>\n",
       "      <td>Draw</td>\n",
       "      <td>0</td>\n",
       "      <td>0</td>\n",
       "    </tr>\n",
       "    <tr>\n",
       "      <th>6</th>\n",
       "      <td>2000/01</td>\n",
       "      <td>2000-08-19</td>\n",
       "      <td>Liverpool</td>\n",
       "      <td>Bradford</td>\n",
       "      <td>1</td>\n",
       "      <td>0</td>\n",
       "      <td>H</td>\n",
       "      <td>0</td>\n",
       "      <td>0</td>\n",
       "      <td>D</td>\n",
       "      <td>...</td>\n",
       "      <td>1</td>\n",
       "      <td>8</td>\n",
       "      <td>8</td>\n",
       "      <td>1</td>\n",
       "      <td>1</td>\n",
       "      <td>0</td>\n",
       "      <td>0</td>\n",
       "      <td>Home Win</td>\n",
       "      <td>1</td>\n",
       "      <td>1</td>\n",
       "    </tr>\n",
       "    <tr>\n",
       "      <th>7</th>\n",
       "      <td>2000/01</td>\n",
       "      <td>2000-08-19</td>\n",
       "      <td>Sunderland</td>\n",
       "      <td>Arsenal</td>\n",
       "      <td>1</td>\n",
       "      <td>0</td>\n",
       "      <td>H</td>\n",
       "      <td>0</td>\n",
       "      <td>0</td>\n",
       "      <td>D</td>\n",
       "      <td>...</td>\n",
       "      <td>9</td>\n",
       "      <td>10</td>\n",
       "      <td>21</td>\n",
       "      <td>3</td>\n",
       "      <td>1</td>\n",
       "      <td>0</td>\n",
       "      <td>1</td>\n",
       "      <td>Home Win</td>\n",
       "      <td>1</td>\n",
       "      <td>1</td>\n",
       "    </tr>\n",
       "    <tr>\n",
       "      <th>8</th>\n",
       "      <td>2000/01</td>\n",
       "      <td>2000-08-19</td>\n",
       "      <td>Tottenham</td>\n",
       "      <td>Ipswich</td>\n",
       "      <td>3</td>\n",
       "      <td>1</td>\n",
       "      <td>H</td>\n",
       "      <td>2</td>\n",
       "      <td>1</td>\n",
       "      <td>H</td>\n",
       "      <td>...</td>\n",
       "      <td>4</td>\n",
       "      <td>14</td>\n",
       "      <td>13</td>\n",
       "      <td>0</td>\n",
       "      <td>0</td>\n",
       "      <td>0</td>\n",
       "      <td>0</td>\n",
       "      <td>Home Win</td>\n",
       "      <td>2</td>\n",
       "      <td>4</td>\n",
       "    </tr>\n",
       "    <tr>\n",
       "      <th>9</th>\n",
       "      <td>2000/01</td>\n",
       "      <td>2000-08-20</td>\n",
       "      <td>Man United</td>\n",
       "      <td>Newcastle</td>\n",
       "      <td>2</td>\n",
       "      <td>0</td>\n",
       "      <td>H</td>\n",
       "      <td>1</td>\n",
       "      <td>0</td>\n",
       "      <td>H</td>\n",
       "      <td>...</td>\n",
       "      <td>1</td>\n",
       "      <td>7</td>\n",
       "      <td>13</td>\n",
       "      <td>0</td>\n",
       "      <td>1</td>\n",
       "      <td>0</td>\n",
       "      <td>0</td>\n",
       "      <td>Home Win</td>\n",
       "      <td>2</td>\n",
       "      <td>2</td>\n",
       "    </tr>\n",
       "    <tr>\n",
       "      <th>10</th>\n",
       "      <td>2000/01</td>\n",
       "      <td>2000-08-21</td>\n",
       "      <td>Arsenal</td>\n",
       "      <td>Liverpool</td>\n",
       "      <td>2</td>\n",
       "      <td>0</td>\n",
       "      <td>H</td>\n",
       "      <td>1</td>\n",
       "      <td>0</td>\n",
       "      <td>H</td>\n",
       "      <td>...</td>\n",
       "      <td>11</td>\n",
       "      <td>25</td>\n",
       "      <td>20</td>\n",
       "      <td>2</td>\n",
       "      <td>4</td>\n",
       "      <td>1</td>\n",
       "      <td>2</td>\n",
       "      <td>Home Win</td>\n",
       "      <td>2</td>\n",
       "      <td>2</td>\n",
       "    </tr>\n",
       "    <tr>\n",
       "      <th>11</th>\n",
       "      <td>2000/01</td>\n",
       "      <td>2000-08-22</td>\n",
       "      <td>Bradford</td>\n",
       "      <td>Chelsea</td>\n",
       "      <td>2</td>\n",
       "      <td>0</td>\n",
       "      <td>H</td>\n",
       "      <td>1</td>\n",
       "      <td>0</td>\n",
       "      <td>H</td>\n",
       "      <td>...</td>\n",
       "      <td>4</td>\n",
       "      <td>14</td>\n",
       "      <td>16</td>\n",
       "      <td>0</td>\n",
       "      <td>1</td>\n",
       "      <td>0</td>\n",
       "      <td>0</td>\n",
       "      <td>Home Win</td>\n",
       "      <td>2</td>\n",
       "      <td>2</td>\n",
       "    </tr>\n",
       "    <tr>\n",
       "      <th>12</th>\n",
       "      <td>2000/01</td>\n",
       "      <td>2000-08-22</td>\n",
       "      <td>Ipswich</td>\n",
       "      <td>Man United</td>\n",
       "      <td>1</td>\n",
       "      <td>1</td>\n",
       "      <td>D</td>\n",
       "      <td>1</td>\n",
       "      <td>1</td>\n",
       "      <td>D</td>\n",
       "      <td>...</td>\n",
       "      <td>6</td>\n",
       "      <td>10</td>\n",
       "      <td>7</td>\n",
       "      <td>1</td>\n",
       "      <td>4</td>\n",
       "      <td>0</td>\n",
       "      <td>0</td>\n",
       "      <td>Draw</td>\n",
       "      <td>0</td>\n",
       "      <td>2</td>\n",
       "    </tr>\n",
       "    <tr>\n",
       "      <th>13</th>\n",
       "      <td>2000/01</td>\n",
       "      <td>2000-08-22</td>\n",
       "      <td>Middlesbrough</td>\n",
       "      <td>Tottenham</td>\n",
       "      <td>1</td>\n",
       "      <td>1</td>\n",
       "      <td>D</td>\n",
       "      <td>0</td>\n",
       "      <td>1</td>\n",
       "      <td>A</td>\n",
       "      <td>...</td>\n",
       "      <td>5</td>\n",
       "      <td>9</td>\n",
       "      <td>18</td>\n",
       "      <td>2</td>\n",
       "      <td>1</td>\n",
       "      <td>0</td>\n",
       "      <td>0</td>\n",
       "      <td>Draw</td>\n",
       "      <td>0</td>\n",
       "      <td>2</td>\n",
       "    </tr>\n",
       "    <tr>\n",
       "      <th>14</th>\n",
       "      <td>2000/01</td>\n",
       "      <td>2000-08-23</td>\n",
       "      <td>West Ham</td>\n",
       "      <td>Leicester</td>\n",
       "      <td>0</td>\n",
       "      <td>1</td>\n",
       "      <td>A</td>\n",
       "      <td>0</td>\n",
       "      <td>0</td>\n",
       "      <td>D</td>\n",
       "      <td>...</td>\n",
       "      <td>5</td>\n",
       "      <td>16</td>\n",
       "      <td>14</td>\n",
       "      <td>3</td>\n",
       "      <td>3</td>\n",
       "      <td>1</td>\n",
       "      <td>0</td>\n",
       "      <td>Away Win</td>\n",
       "      <td>-1</td>\n",
       "      <td>1</td>\n",
       "    </tr>\n",
       "    <tr>\n",
       "      <th>15</th>\n",
       "      <td>2000/01</td>\n",
       "      <td>2000-08-23</td>\n",
       "      <td>Newcastle</td>\n",
       "      <td>Derby</td>\n",
       "      <td>3</td>\n",
       "      <td>2</td>\n",
       "      <td>H</td>\n",
       "      <td>1</td>\n",
       "      <td>1</td>\n",
       "      <td>D</td>\n",
       "      <td>...</td>\n",
       "      <td>6</td>\n",
       "      <td>23</td>\n",
       "      <td>11</td>\n",
       "      <td>0</td>\n",
       "      <td>3</td>\n",
       "      <td>1</td>\n",
       "      <td>0</td>\n",
       "      <td>Home Win</td>\n",
       "      <td>1</td>\n",
       "      <td>5</td>\n",
       "    </tr>\n",
       "    <tr>\n",
       "      <th>16</th>\n",
       "      <td>2000/01</td>\n",
       "      <td>2000-08-23</td>\n",
       "      <td>Southampton</td>\n",
       "      <td>Coventry</td>\n",
       "      <td>1</td>\n",
       "      <td>2</td>\n",
       "      <td>A</td>\n",
       "      <td>0</td>\n",
       "      <td>1</td>\n",
       "      <td>A</td>\n",
       "      <td>...</td>\n",
       "      <td>5</td>\n",
       "      <td>18</td>\n",
       "      <td>20</td>\n",
       "      <td>5</td>\n",
       "      <td>3</td>\n",
       "      <td>0</td>\n",
       "      <td>0</td>\n",
       "      <td>Away Win</td>\n",
       "      <td>-1</td>\n",
       "      <td>3</td>\n",
       "    </tr>\n",
       "    <tr>\n",
       "      <th>17</th>\n",
       "      <td>2000/01</td>\n",
       "      <td>2000-08-23</td>\n",
       "      <td>Everton</td>\n",
       "      <td>Charlton</td>\n",
       "      <td>3</td>\n",
       "      <td>0</td>\n",
       "      <td>H</td>\n",
       "      <td>0</td>\n",
       "      <td>0</td>\n",
       "      <td>D</td>\n",
       "      <td>...</td>\n",
       "      <td>5</td>\n",
       "      <td>17</td>\n",
       "      <td>15</td>\n",
       "      <td>2</td>\n",
       "      <td>1</td>\n",
       "      <td>0</td>\n",
       "      <td>1</td>\n",
       "      <td>Home Win</td>\n",
       "      <td>3</td>\n",
       "      <td>3</td>\n",
       "    </tr>\n",
       "    <tr>\n",
       "      <th>18</th>\n",
       "      <td>2000/01</td>\n",
       "      <td>2000-08-23</td>\n",
       "      <td>Man City</td>\n",
       "      <td>Sunderland</td>\n",
       "      <td>4</td>\n",
       "      <td>2</td>\n",
       "      <td>H</td>\n",
       "      <td>2</td>\n",
       "      <td>0</td>\n",
       "      <td>H</td>\n",
       "      <td>...</td>\n",
       "      <td>3</td>\n",
       "      <td>24</td>\n",
       "      <td>14</td>\n",
       "      <td>3</td>\n",
       "      <td>3</td>\n",
       "      <td>0</td>\n",
       "      <td>0</td>\n",
       "      <td>Home Win</td>\n",
       "      <td>2</td>\n",
       "      <td>6</td>\n",
       "    </tr>\n",
       "    <tr>\n",
       "      <th>19</th>\n",
       "      <td>2000/01</td>\n",
       "      <td>2000-08-26</td>\n",
       "      <td>Southampton</td>\n",
       "      <td>Liverpool</td>\n",
       "      <td>3</td>\n",
       "      <td>3</td>\n",
       "      <td>D</td>\n",
       "      <td>0</td>\n",
       "      <td>1</td>\n",
       "      <td>A</td>\n",
       "      <td>...</td>\n",
       "      <td>1</td>\n",
       "      <td>7</td>\n",
       "      <td>6</td>\n",
       "      <td>0</td>\n",
       "      <td>0</td>\n",
       "      <td>0</td>\n",
       "      <td>0</td>\n",
       "      <td>Draw</td>\n",
       "      <td>0</td>\n",
       "      <td>6</td>\n",
       "    </tr>\n",
       "    <tr>\n",
       "      <th>20</th>\n",
       "      <td>2000/01</td>\n",
       "      <td>2000-08-26</td>\n",
       "      <td>Arsenal</td>\n",
       "      <td>Charlton</td>\n",
       "      <td>5</td>\n",
       "      <td>3</td>\n",
       "      <td>H</td>\n",
       "      <td>1</td>\n",
       "      <td>2</td>\n",
       "      <td>A</td>\n",
       "      <td>...</td>\n",
       "      <td>3</td>\n",
       "      <td>12</td>\n",
       "      <td>15</td>\n",
       "      <td>0</td>\n",
       "      <td>1</td>\n",
       "      <td>0</td>\n",
       "      <td>0</td>\n",
       "      <td>Home Win</td>\n",
       "      <td>2</td>\n",
       "      <td>8</td>\n",
       "    </tr>\n",
       "    <tr>\n",
       "      <th>21</th>\n",
       "      <td>2000/01</td>\n",
       "      <td>2000-08-26</td>\n",
       "      <td>Bradford</td>\n",
       "      <td>Leicester</td>\n",
       "      <td>0</td>\n",
       "      <td>0</td>\n",
       "      <td>D</td>\n",
       "      <td>0</td>\n",
       "      <td>0</td>\n",
       "      <td>D</td>\n",
       "      <td>...</td>\n",
       "      <td>8</td>\n",
       "      <td>11</td>\n",
       "      <td>12</td>\n",
       "      <td>1</td>\n",
       "      <td>2</td>\n",
       "      <td>0</td>\n",
       "      <td>0</td>\n",
       "      <td>Draw</td>\n",
       "      <td>0</td>\n",
       "      <td>0</td>\n",
       "    </tr>\n",
       "    <tr>\n",
       "      <th>22</th>\n",
       "      <td>2000/01</td>\n",
       "      <td>2000-08-26</td>\n",
       "      <td>Everton</td>\n",
       "      <td>Derby</td>\n",
       "      <td>2</td>\n",
       "      <td>2</td>\n",
       "      <td>D</td>\n",
       "      <td>2</td>\n",
       "      <td>0</td>\n",
       "      <td>H</td>\n",
       "      <td>...</td>\n",
       "      <td>2</td>\n",
       "      <td>11</td>\n",
       "      <td>9</td>\n",
       "      <td>2</td>\n",
       "      <td>3</td>\n",
       "      <td>0</td>\n",
       "      <td>0</td>\n",
       "      <td>Draw</td>\n",
       "      <td>0</td>\n",
       "      <td>4</td>\n",
       "    </tr>\n",
       "    <tr>\n",
       "      <th>23</th>\n",
       "      <td>2000/01</td>\n",
       "      <td>2000-08-26</td>\n",
       "      <td>Ipswich</td>\n",
       "      <td>Sunderland</td>\n",
       "      <td>1</td>\n",
       "      <td>0</td>\n",
       "      <td>H</td>\n",
       "      <td>0</td>\n",
       "      <td>0</td>\n",
       "      <td>D</td>\n",
       "      <td>...</td>\n",
       "      <td>6</td>\n",
       "      <td>10</td>\n",
       "      <td>12</td>\n",
       "      <td>1</td>\n",
       "      <td>1</td>\n",
       "      <td>0</td>\n",
       "      <td>0</td>\n",
       "      <td>Home Win</td>\n",
       "      <td>1</td>\n",
       "      <td>1</td>\n",
       "    </tr>\n",
       "    <tr>\n",
       "      <th>24</th>\n",
       "      <td>2000/01</td>\n",
       "      <td>2000-08-26</td>\n",
       "      <td>Man City</td>\n",
       "      <td>Coventry</td>\n",
       "      <td>1</td>\n",
       "      <td>2</td>\n",
       "      <td>A</td>\n",
       "      <td>0</td>\n",
       "      <td>2</td>\n",
       "      <td>A</td>\n",
       "      <td>...</td>\n",
       "      <td>5</td>\n",
       "      <td>7</td>\n",
       "      <td>12</td>\n",
       "      <td>2</td>\n",
       "      <td>3</td>\n",
       "      <td>0</td>\n",
       "      <td>0</td>\n",
       "      <td>Away Win</td>\n",
       "      <td>-1</td>\n",
       "      <td>3</td>\n",
       "    </tr>\n",
       "    <tr>\n",
       "      <th>25</th>\n",
       "      <td>2000/01</td>\n",
       "      <td>2000-08-26</td>\n",
       "      <td>Middlesbrough</td>\n",
       "      <td>Leeds</td>\n",
       "      <td>1</td>\n",
       "      <td>2</td>\n",
       "      <td>A</td>\n",
       "      <td>0</td>\n",
       "      <td>2</td>\n",
       "      <td>A</td>\n",
       "      <td>...</td>\n",
       "      <td>8</td>\n",
       "      <td>12</td>\n",
       "      <td>20</td>\n",
       "      <td>2</td>\n",
       "      <td>0</td>\n",
       "      <td>0</td>\n",
       "      <td>0</td>\n",
       "      <td>Away Win</td>\n",
       "      <td>-1</td>\n",
       "      <td>3</td>\n",
       "    </tr>\n",
       "    <tr>\n",
       "      <th>26</th>\n",
       "      <td>2000/01</td>\n",
       "      <td>2000-08-26</td>\n",
       "      <td>Newcastle</td>\n",
       "      <td>Tottenham</td>\n",
       "      <td>2</td>\n",
       "      <td>0</td>\n",
       "      <td>H</td>\n",
       "      <td>1</td>\n",
       "      <td>0</td>\n",
       "      <td>H</td>\n",
       "      <td>...</td>\n",
       "      <td>2</td>\n",
       "      <td>13</td>\n",
       "      <td>10</td>\n",
       "      <td>0</td>\n",
       "      <td>0</td>\n",
       "      <td>0</td>\n",
       "      <td>0</td>\n",
       "      <td>Home Win</td>\n",
       "      <td>2</td>\n",
       "      <td>2</td>\n",
       "    </tr>\n",
       "    <tr>\n",
       "      <th>27</th>\n",
       "      <td>2000/01</td>\n",
       "      <td>2000-08-26</td>\n",
       "      <td>West Ham</td>\n",
       "      <td>Man United</td>\n",
       "      <td>2</td>\n",
       "      <td>2</td>\n",
       "      <td>D</td>\n",
       "      <td>0</td>\n",
       "      <td>1</td>\n",
       "      <td>A</td>\n",
       "      <td>...</td>\n",
       "      <td>5</td>\n",
       "      <td>12</td>\n",
       "      <td>9</td>\n",
       "      <td>1</td>\n",
       "      <td>0</td>\n",
       "      <td>0</td>\n",
       "      <td>0</td>\n",
       "      <td>Draw</td>\n",
       "      <td>0</td>\n",
       "      <td>4</td>\n",
       "    </tr>\n",
       "    <tr>\n",
       "      <th>28</th>\n",
       "      <td>2000/01</td>\n",
       "      <td>2000-08-27</td>\n",
       "      <td>Aston Villa</td>\n",
       "      <td>Chelsea</td>\n",
       "      <td>1</td>\n",
       "      <td>1</td>\n",
       "      <td>D</td>\n",
       "      <td>1</td>\n",
       "      <td>1</td>\n",
       "      <td>D</td>\n",
       "      <td>...</td>\n",
       "      <td>10</td>\n",
       "      <td>13</td>\n",
       "      <td>12</td>\n",
       "      <td>0</td>\n",
       "      <td>1</td>\n",
       "      <td>0</td>\n",
       "      <td>0</td>\n",
       "      <td>Draw</td>\n",
       "      <td>0</td>\n",
       "      <td>2</td>\n",
       "    </tr>\n",
       "    <tr>\n",
       "      <th>29</th>\n",
       "      <td>2000/01</td>\n",
       "      <td>2000-09-05</td>\n",
       "      <td>Leeds</td>\n",
       "      <td>Man City</td>\n",
       "      <td>1</td>\n",
       "      <td>2</td>\n",
       "      <td>A</td>\n",
       "      <td>0</td>\n",
       "      <td>2</td>\n",
       "      <td>A</td>\n",
       "      <td>...</td>\n",
       "      <td>4</td>\n",
       "      <td>18</td>\n",
       "      <td>24</td>\n",
       "      <td>2</td>\n",
       "      <td>2</td>\n",
       "      <td>0</td>\n",
       "      <td>0</td>\n",
       "      <td>Away Win</td>\n",
       "      <td>-1</td>\n",
       "      <td>3</td>\n",
       "    </tr>\n",
       "    <tr>\n",
       "      <th>30</th>\n",
       "      <td>2000/01</td>\n",
       "      <td>2000-09-05</td>\n",
       "      <td>Man United</td>\n",
       "      <td>Bradford</td>\n",
       "      <td>6</td>\n",
       "      <td>0</td>\n",
       "      <td>H</td>\n",
       "      <td>2</td>\n",
       "      <td>0</td>\n",
       "      <td>H</td>\n",
       "      <td>...</td>\n",
       "      <td>1</td>\n",
       "      <td>12</td>\n",
       "      <td>10</td>\n",
       "      <td>0</td>\n",
       "      <td>1</td>\n",
       "      <td>0</td>\n",
       "      <td>0</td>\n",
       "      <td>Home Win</td>\n",
       "      <td>6</td>\n",
       "      <td>6</td>\n",
       "    </tr>\n",
       "    <tr>\n",
       "      <th>31</th>\n",
       "      <td>2000/01</td>\n",
       "      <td>2000-09-05</td>\n",
       "      <td>Sunderland</td>\n",
       "      <td>West Ham</td>\n",
       "      <td>1</td>\n",
       "      <td>1</td>\n",
       "      <td>D</td>\n",
       "      <td>1</td>\n",
       "      <td>1</td>\n",
       "      <td>D</td>\n",
       "      <td>...</td>\n",
       "      <td>11</td>\n",
       "      <td>19</td>\n",
       "      <td>14</td>\n",
       "      <td>2</td>\n",
       "      <td>3</td>\n",
       "      <td>0</td>\n",
       "      <td>0</td>\n",
       "      <td>Draw</td>\n",
       "      <td>0</td>\n",
       "      <td>2</td>\n",
       "    </tr>\n",
       "    <tr>\n",
       "      <th>32</th>\n",
       "      <td>2000/01</td>\n",
       "      <td>2000-09-05</td>\n",
       "      <td>Tottenham</td>\n",
       "      <td>Everton</td>\n",
       "      <td>3</td>\n",
       "      <td>2</td>\n",
       "      <td>H</td>\n",
       "      <td>1</td>\n",
       "      <td>2</td>\n",
       "      <td>A</td>\n",
       "      <td>...</td>\n",
       "      <td>5</td>\n",
       "      <td>11</td>\n",
       "      <td>10</td>\n",
       "      <td>1</td>\n",
       "      <td>2</td>\n",
       "      <td>0</td>\n",
       "      <td>0</td>\n",
       "      <td>Home Win</td>\n",
       "      <td>1</td>\n",
       "      <td>5</td>\n",
       "    </tr>\n",
       "    <tr>\n",
       "      <th>33</th>\n",
       "      <td>2000/01</td>\n",
       "      <td>2000-09-06</td>\n",
       "      <td>Leicester</td>\n",
       "      <td>Ipswich</td>\n",
       "      <td>2</td>\n",
       "      <td>1</td>\n",
       "      <td>H</td>\n",
       "      <td>0</td>\n",
       "      <td>0</td>\n",
       "      <td>D</td>\n",
       "      <td>...</td>\n",
       "      <td>2</td>\n",
       "      <td>12</td>\n",
       "      <td>13</td>\n",
       "      <td>1</td>\n",
       "      <td>1</td>\n",
       "      <td>0</td>\n",
       "      <td>0</td>\n",
       "      <td>Home Win</td>\n",
       "      <td>1</td>\n",
       "      <td>3</td>\n",
       "    </tr>\n",
       "    <tr>\n",
       "      <th>34</th>\n",
       "      <td>2000/01</td>\n",
       "      <td>2000-09-06</td>\n",
       "      <td>Liverpool</td>\n",
       "      <td>Aston Villa</td>\n",
       "      <td>3</td>\n",
       "      <td>1</td>\n",
       "      <td>H</td>\n",
       "      <td>3</td>\n",
       "      <td>0</td>\n",
       "      <td>H</td>\n",
       "      <td>...</td>\n",
       "      <td>7</td>\n",
       "      <td>13</td>\n",
       "      <td>7</td>\n",
       "      <td>0</td>\n",
       "      <td>2</td>\n",
       "      <td>0</td>\n",
       "      <td>0</td>\n",
       "      <td>Home Win</td>\n",
       "      <td>2</td>\n",
       "      <td>4</td>\n",
       "    </tr>\n",
       "    <tr>\n",
       "      <th>35</th>\n",
       "      <td>2000/01</td>\n",
       "      <td>2000-09-06</td>\n",
       "      <td>Derby</td>\n",
       "      <td>Middlesbrough</td>\n",
       "      <td>3</td>\n",
       "      <td>3</td>\n",
       "      <td>D</td>\n",
       "      <td>0</td>\n",
       "      <td>1</td>\n",
       "      <td>A</td>\n",
       "      <td>...</td>\n",
       "      <td>5</td>\n",
       "      <td>8</td>\n",
       "      <td>10</td>\n",
       "      <td>3</td>\n",
       "      <td>2</td>\n",
       "      <td>0</td>\n",
       "      <td>0</td>\n",
       "      <td>Draw</td>\n",
       "      <td>0</td>\n",
       "      <td>6</td>\n",
       "    </tr>\n",
       "    <tr>\n",
       "      <th>36</th>\n",
       "      <td>2000/01</td>\n",
       "      <td>2000-09-06</td>\n",
       "      <td>Coventry</td>\n",
       "      <td>Newcastle</td>\n",
       "      <td>0</td>\n",
       "      <td>2</td>\n",
       "      <td>A</td>\n",
       "      <td>0</td>\n",
       "      <td>1</td>\n",
       "      <td>A</td>\n",
       "      <td>...</td>\n",
       "      <td>8</td>\n",
       "      <td>11</td>\n",
       "      <td>18</td>\n",
       "      <td>1</td>\n",
       "      <td>1</td>\n",
       "      <td>0</td>\n",
       "      <td>0</td>\n",
       "      <td>Away Win</td>\n",
       "      <td>-2</td>\n",
       "      <td>2</td>\n",
       "    </tr>\n",
       "    <tr>\n",
       "      <th>37</th>\n",
       "      <td>2000/01</td>\n",
       "      <td>2000-09-06</td>\n",
       "      <td>Chelsea</td>\n",
       "      <td>Arsenal</td>\n",
       "      <td>2</td>\n",
       "      <td>2</td>\n",
       "      <td>D</td>\n",
       "      <td>1</td>\n",
       "      <td>0</td>\n",
       "      <td>H</td>\n",
       "      <td>...</td>\n",
       "      <td>6</td>\n",
       "      <td>16</td>\n",
       "      <td>22</td>\n",
       "      <td>3</td>\n",
       "      <td>1</td>\n",
       "      <td>0</td>\n",
       "      <td>0</td>\n",
       "      <td>Draw</td>\n",
       "      <td>0</td>\n",
       "      <td>4</td>\n",
       "    </tr>\n",
       "    <tr>\n",
       "      <th>38</th>\n",
       "      <td>2000/01</td>\n",
       "      <td>2000-09-06</td>\n",
       "      <td>Charlton</td>\n",
       "      <td>Southampton</td>\n",
       "      <td>1</td>\n",
       "      <td>1</td>\n",
       "      <td>D</td>\n",
       "      <td>0</td>\n",
       "      <td>0</td>\n",
       "      <td>D</td>\n",
       "      <td>...</td>\n",
       "      <td>14</td>\n",
       "      <td>14</td>\n",
       "      <td>16</td>\n",
       "      <td>3</td>\n",
       "      <td>3</td>\n",
       "      <td>1</td>\n",
       "      <td>0</td>\n",
       "      <td>Draw</td>\n",
       "      <td>0</td>\n",
       "      <td>2</td>\n",
       "    </tr>\n",
       "    <tr>\n",
       "      <th>39</th>\n",
       "      <td>2000/01</td>\n",
       "      <td>2000-09-09</td>\n",
       "      <td>Bradford</td>\n",
       "      <td>Arsenal</td>\n",
       "      <td>1</td>\n",
       "      <td>1</td>\n",
       "      <td>D</td>\n",
       "      <td>1</td>\n",
       "      <td>0</td>\n",
       "      <td>H</td>\n",
       "      <td>...</td>\n",
       "      <td>10</td>\n",
       "      <td>17</td>\n",
       "      <td>13</td>\n",
       "      <td>0</td>\n",
       "      <td>2</td>\n",
       "      <td>0</td>\n",
       "      <td>0</td>\n",
       "      <td>Draw</td>\n",
       "      <td>0</td>\n",
       "      <td>2</td>\n",
       "    </tr>\n",
       "    <tr>\n",
       "      <th>40</th>\n",
       "      <td>2000/01</td>\n",
       "      <td>2000-09-09</td>\n",
       "      <td>Coventry</td>\n",
       "      <td>Leeds</td>\n",
       "      <td>0</td>\n",
       "      <td>0</td>\n",
       "      <td>D</td>\n",
       "      <td>0</td>\n",
       "      <td>0</td>\n",
       "      <td>D</td>\n",
       "      <td>...</td>\n",
       "      <td>6</td>\n",
       "      <td>15</td>\n",
       "      <td>14</td>\n",
       "      <td>2</td>\n",
       "      <td>2</td>\n",
       "      <td>0</td>\n",
       "      <td>0</td>\n",
       "      <td>Draw</td>\n",
       "      <td>0</td>\n",
       "      <td>0</td>\n",
       "    </tr>\n",
       "    <tr>\n",
       "      <th>41</th>\n",
       "      <td>2000/01</td>\n",
       "      <td>2000-09-09</td>\n",
       "      <td>Ipswich</td>\n",
       "      <td>Aston Villa</td>\n",
       "      <td>1</td>\n",
       "      <td>2</td>\n",
       "      <td>A</td>\n",
       "      <td>0</td>\n",
       "      <td>1</td>\n",
       "      <td>A</td>\n",
       "      <td>...</td>\n",
       "      <td>3</td>\n",
       "      <td>9</td>\n",
       "      <td>13</td>\n",
       "      <td>1</td>\n",
       "      <td>3</td>\n",
       "      <td>0</td>\n",
       "      <td>0</td>\n",
       "      <td>Away Win</td>\n",
       "      <td>-1</td>\n",
       "      <td>3</td>\n",
       "    </tr>\n",
       "    <tr>\n",
       "      <th>42</th>\n",
       "      <td>2000/01</td>\n",
       "      <td>2000-09-09</td>\n",
       "      <td>Leicester</td>\n",
       "      <td>Southampton</td>\n",
       "      <td>1</td>\n",
       "      <td>0</td>\n",
       "      <td>H</td>\n",
       "      <td>0</td>\n",
       "      <td>0</td>\n",
       "      <td>D</td>\n",
       "      <td>...</td>\n",
       "      <td>6</td>\n",
       "      <td>6</td>\n",
       "      <td>9</td>\n",
       "      <td>0</td>\n",
       "      <td>0</td>\n",
       "      <td>0</td>\n",
       "      <td>0</td>\n",
       "      <td>Home Win</td>\n",
       "      <td>1</td>\n",
       "      <td>1</td>\n",
       "    </tr>\n",
       "    <tr>\n",
       "      <th>43</th>\n",
       "      <td>2000/01</td>\n",
       "      <td>2000-09-09</td>\n",
       "      <td>Liverpool</td>\n",
       "      <td>Man City</td>\n",
       "      <td>3</td>\n",
       "      <td>2</td>\n",
       "      <td>H</td>\n",
       "      <td>1</td>\n",
       "      <td>0</td>\n",
       "      <td>H</td>\n",
       "      <td>...</td>\n",
       "      <td>4</td>\n",
       "      <td>17</td>\n",
       "      <td>17</td>\n",
       "      <td>3</td>\n",
       "      <td>4</td>\n",
       "      <td>0</td>\n",
       "      <td>0</td>\n",
       "      <td>Home Win</td>\n",
       "      <td>1</td>\n",
       "      <td>5</td>\n",
       "    </tr>\n",
       "    <tr>\n",
       "      <th>44</th>\n",
       "      <td>2000/01</td>\n",
       "      <td>2000-09-09</td>\n",
       "      <td>Man United</td>\n",
       "      <td>Sunderland</td>\n",
       "      <td>3</td>\n",
       "      <td>0</td>\n",
       "      <td>H</td>\n",
       "      <td>1</td>\n",
       "      <td>0</td>\n",
       "      <td>H</td>\n",
       "      <td>...</td>\n",
       "      <td>4</td>\n",
       "      <td>18</td>\n",
       "      <td>14</td>\n",
       "      <td>1</td>\n",
       "      <td>3</td>\n",
       "      <td>0</td>\n",
       "      <td>0</td>\n",
       "      <td>Home Win</td>\n",
       "      <td>3</td>\n",
       "      <td>3</td>\n",
       "    </tr>\n",
       "    <tr>\n",
       "      <th>45</th>\n",
       "      <td>2000/01</td>\n",
       "      <td>2000-09-09</td>\n",
       "      <td>Middlesbrough</td>\n",
       "      <td>Everton</td>\n",
       "      <td>1</td>\n",
       "      <td>2</td>\n",
       "      <td>A</td>\n",
       "      <td>1</td>\n",
       "      <td>0</td>\n",
       "      <td>H</td>\n",
       "      <td>...</td>\n",
       "      <td>7</td>\n",
       "      <td>16</td>\n",
       "      <td>5</td>\n",
       "      <td>3</td>\n",
       "      <td>0</td>\n",
       "      <td>0</td>\n",
       "      <td>0</td>\n",
       "      <td>Away Win</td>\n",
       "      <td>-1</td>\n",
       "      <td>3</td>\n",
       "    </tr>\n",
       "    <tr>\n",
       "      <th>46</th>\n",
       "      <td>2000/01</td>\n",
       "      <td>2000-09-09</td>\n",
       "      <td>Newcastle</td>\n",
       "      <td>Chelsea</td>\n",
       "      <td>0</td>\n",
       "      <td>0</td>\n",
       "      <td>D</td>\n",
       "      <td>0</td>\n",
       "      <td>0</td>\n",
       "      <td>D</td>\n",
       "      <td>...</td>\n",
       "      <td>6</td>\n",
       "      <td>17</td>\n",
       "      <td>21</td>\n",
       "      <td>0</td>\n",
       "      <td>3</td>\n",
       "      <td>0</td>\n",
       "      <td>0</td>\n",
       "      <td>Draw</td>\n",
       "      <td>0</td>\n",
       "      <td>0</td>\n",
       "    </tr>\n",
       "    <tr>\n",
       "      <th>47</th>\n",
       "      <td>2000/01</td>\n",
       "      <td>2000-09-10</td>\n",
       "      <td>Derby</td>\n",
       "      <td>Charlton</td>\n",
       "      <td>2</td>\n",
       "      <td>2</td>\n",
       "      <td>D</td>\n",
       "      <td>2</td>\n",
       "      <td>0</td>\n",
       "      <td>H</td>\n",
       "      <td>...</td>\n",
       "      <td>11</td>\n",
       "      <td>17</td>\n",
       "      <td>12</td>\n",
       "      <td>3</td>\n",
       "      <td>1</td>\n",
       "      <td>0</td>\n",
       "      <td>0</td>\n",
       "      <td>Draw</td>\n",
       "      <td>0</td>\n",
       "      <td>4</td>\n",
       "    </tr>\n",
       "    <tr>\n",
       "      <th>48</th>\n",
       "      <td>2000/01</td>\n",
       "      <td>2000-09-11</td>\n",
       "      <td>Tottenham</td>\n",
       "      <td>West Ham</td>\n",
       "      <td>1</td>\n",
       "      <td>0</td>\n",
       "      <td>H</td>\n",
       "      <td>0</td>\n",
       "      <td>0</td>\n",
       "      <td>D</td>\n",
       "      <td>...</td>\n",
       "      <td>3</td>\n",
       "      <td>14</td>\n",
       "      <td>13</td>\n",
       "      <td>1</td>\n",
       "      <td>2</td>\n",
       "      <td>0</td>\n",
       "      <td>0</td>\n",
       "      <td>Home Win</td>\n",
       "      <td>1</td>\n",
       "      <td>1</td>\n",
       "    </tr>\n",
       "    <tr>\n",
       "      <th>49</th>\n",
       "      <td>2000/01</td>\n",
       "      <td>2000-09-16</td>\n",
       "      <td>Sunderland</td>\n",
       "      <td>Derby</td>\n",
       "      <td>2</td>\n",
       "      <td>1</td>\n",
       "      <td>H</td>\n",
       "      <td>1</td>\n",
       "      <td>0</td>\n",
       "      <td>H</td>\n",
       "      <td>...</td>\n",
       "      <td>5</td>\n",
       "      <td>16</td>\n",
       "      <td>28</td>\n",
       "      <td>2</td>\n",
       "      <td>3</td>\n",
       "      <td>0</td>\n",
       "      <td>0</td>\n",
       "      <td>Home Win</td>\n",
       "      <td>1</td>\n",
       "      <td>3</td>\n",
       "    </tr>\n",
       "  </tbody>\n",
       "</table>\n",
       "<p>50 rows × 25 columns</p>\n",
       "</div>"
      ],
      "text/plain": [
       "     Season   MatchDate       HomeTeam       AwayTeam  FullTimeHomeGoals  \\\n",
       "0   2000/01  2000-08-19       Charlton       Man City                  4   \n",
       "1   2000/01  2000-08-19        Chelsea       West Ham                  4   \n",
       "2   2000/01  2000-08-19       Coventry  Middlesbrough                  1   \n",
       "3   2000/01  2000-08-19          Derby    Southampton                  2   \n",
       "4   2000/01  2000-08-19          Leeds        Everton                  2   \n",
       "5   2000/01  2000-08-19      Leicester    Aston Villa                  0   \n",
       "6   2000/01  2000-08-19      Liverpool       Bradford                  1   \n",
       "7   2000/01  2000-08-19     Sunderland        Arsenal                  1   \n",
       "8   2000/01  2000-08-19      Tottenham        Ipswich                  3   \n",
       "9   2000/01  2000-08-20     Man United      Newcastle                  2   \n",
       "10  2000/01  2000-08-21        Arsenal      Liverpool                  2   \n",
       "11  2000/01  2000-08-22       Bradford        Chelsea                  2   \n",
       "12  2000/01  2000-08-22        Ipswich     Man United                  1   \n",
       "13  2000/01  2000-08-22  Middlesbrough      Tottenham                  1   \n",
       "14  2000/01  2000-08-23       West Ham      Leicester                  0   \n",
       "15  2000/01  2000-08-23      Newcastle          Derby                  3   \n",
       "16  2000/01  2000-08-23    Southampton       Coventry                  1   \n",
       "17  2000/01  2000-08-23        Everton       Charlton                  3   \n",
       "18  2000/01  2000-08-23       Man City     Sunderland                  4   \n",
       "19  2000/01  2000-08-26    Southampton      Liverpool                  3   \n",
       "20  2000/01  2000-08-26        Arsenal       Charlton                  5   \n",
       "21  2000/01  2000-08-26       Bradford      Leicester                  0   \n",
       "22  2000/01  2000-08-26        Everton          Derby                  2   \n",
       "23  2000/01  2000-08-26        Ipswich     Sunderland                  1   \n",
       "24  2000/01  2000-08-26       Man City       Coventry                  1   \n",
       "25  2000/01  2000-08-26  Middlesbrough          Leeds                  1   \n",
       "26  2000/01  2000-08-26      Newcastle      Tottenham                  2   \n",
       "27  2000/01  2000-08-26       West Ham     Man United                  2   \n",
       "28  2000/01  2000-08-27    Aston Villa        Chelsea                  1   \n",
       "29  2000/01  2000-09-05          Leeds       Man City                  1   \n",
       "30  2000/01  2000-09-05     Man United       Bradford                  6   \n",
       "31  2000/01  2000-09-05     Sunderland       West Ham                  1   \n",
       "32  2000/01  2000-09-05      Tottenham        Everton                  3   \n",
       "33  2000/01  2000-09-06      Leicester        Ipswich                  2   \n",
       "34  2000/01  2000-09-06      Liverpool    Aston Villa                  3   \n",
       "35  2000/01  2000-09-06          Derby  Middlesbrough                  3   \n",
       "36  2000/01  2000-09-06       Coventry      Newcastle                  0   \n",
       "37  2000/01  2000-09-06        Chelsea        Arsenal                  2   \n",
       "38  2000/01  2000-09-06       Charlton    Southampton                  1   \n",
       "39  2000/01  2000-09-09       Bradford        Arsenal                  1   \n",
       "40  2000/01  2000-09-09       Coventry          Leeds                  0   \n",
       "41  2000/01  2000-09-09        Ipswich    Aston Villa                  1   \n",
       "42  2000/01  2000-09-09      Leicester    Southampton                  1   \n",
       "43  2000/01  2000-09-09      Liverpool       Man City                  3   \n",
       "44  2000/01  2000-09-09     Man United     Sunderland                  3   \n",
       "45  2000/01  2000-09-09  Middlesbrough        Everton                  1   \n",
       "46  2000/01  2000-09-09      Newcastle        Chelsea                  0   \n",
       "47  2000/01  2000-09-10          Derby       Charlton                  2   \n",
       "48  2000/01  2000-09-11      Tottenham       West Ham                  1   \n",
       "49  2000/01  2000-09-16     Sunderland          Derby                  2   \n",
       "\n",
       "    FullTimeAwayGoals FullTimeResult  HalfTimeHomeGoals  HalfTimeAwayGoals  \\\n",
       "0                   0              H                  2                  0   \n",
       "1                   2              H                  1                  0   \n",
       "2                   3              A                  1                  1   \n",
       "3                   2              D                  1                  2   \n",
       "4                   0              H                  2                  0   \n",
       "5                   0              D                  0                  0   \n",
       "6                   0              H                  0                  0   \n",
       "7                   0              H                  0                  0   \n",
       "8                   1              H                  2                  1   \n",
       "9                   0              H                  1                  0   \n",
       "10                  0              H                  1                  0   \n",
       "11                  0              H                  1                  0   \n",
       "12                  1              D                  1                  1   \n",
       "13                  1              D                  0                  1   \n",
       "14                  1              A                  0                  0   \n",
       "15                  2              H                  1                  1   \n",
       "16                  2              A                  0                  1   \n",
       "17                  0              H                  0                  0   \n",
       "18                  2              H                  2                  0   \n",
       "19                  3              D                  0                  1   \n",
       "20                  3              H                  1                  2   \n",
       "21                  0              D                  0                  0   \n",
       "22                  2              D                  2                  0   \n",
       "23                  0              H                  0                  0   \n",
       "24                  2              A                  0                  2   \n",
       "25                  2              A                  0                  2   \n",
       "26                  0              H                  1                  0   \n",
       "27                  2              D                  0                  1   \n",
       "28                  1              D                  1                  1   \n",
       "29                  2              A                  0                  2   \n",
       "30                  0              H                  2                  0   \n",
       "31                  1              D                  1                  1   \n",
       "32                  2              H                  1                  2   \n",
       "33                  1              H                  0                  0   \n",
       "34                  1              H                  3                  0   \n",
       "35                  3              D                  0                  1   \n",
       "36                  2              A                  0                  1   \n",
       "37                  2              D                  1                  0   \n",
       "38                  1              D                  0                  0   \n",
       "39                  1              D                  1                  0   \n",
       "40                  0              D                  0                  0   \n",
       "41                  2              A                  0                  1   \n",
       "42                  0              H                  0                  0   \n",
       "43                  2              H                  1                  0   \n",
       "44                  0              H                  1                  0   \n",
       "45                  2              A                  1                  0   \n",
       "46                  0              D                  0                  0   \n",
       "47                  2              D                  2                  0   \n",
       "48                  0              H                  0                  0   \n",
       "49                  1              H                  1                  0   \n",
       "\n",
       "   HalfTimeResult  ...  AwayCorners  HomeFouls  AwayFouls  HomeYellowCards  \\\n",
       "0               H  ...            6         13         12                1   \n",
       "1               H  ...            7         19         14                1   \n",
       "2               D  ...            4         15         21                5   \n",
       "3               A  ...            8         11         13                1   \n",
       "4               H  ...            4         21         20                1   \n",
       "5               D  ...            4         12         12                2   \n",
       "6               D  ...            1          8          8                1   \n",
       "7               D  ...            9         10         21                3   \n",
       "8               H  ...            4         14         13                0   \n",
       "9               H  ...            1          7         13                0   \n",
       "10              H  ...           11         25         20                2   \n",
       "11              H  ...            4         14         16                0   \n",
       "12              D  ...            6         10          7                1   \n",
       "13              A  ...            5          9         18                2   \n",
       "14              D  ...            5         16         14                3   \n",
       "15              D  ...            6         23         11                0   \n",
       "16              A  ...            5         18         20                5   \n",
       "17              D  ...            5         17         15                2   \n",
       "18              H  ...            3         24         14                3   \n",
       "19              A  ...            1          7          6                0   \n",
       "20              A  ...            3         12         15                0   \n",
       "21              D  ...            8         11         12                1   \n",
       "22              H  ...            2         11          9                2   \n",
       "23              D  ...            6         10         12                1   \n",
       "24              A  ...            5          7         12                2   \n",
       "25              A  ...            8         12         20                2   \n",
       "26              H  ...            2         13         10                0   \n",
       "27              A  ...            5         12          9                1   \n",
       "28              D  ...           10         13         12                0   \n",
       "29              A  ...            4         18         24                2   \n",
       "30              H  ...            1         12         10                0   \n",
       "31              D  ...           11         19         14                2   \n",
       "32              A  ...            5         11         10                1   \n",
       "33              D  ...            2         12         13                1   \n",
       "34              H  ...            7         13          7                0   \n",
       "35              A  ...            5          8         10                3   \n",
       "36              A  ...            8         11         18                1   \n",
       "37              H  ...            6         16         22                3   \n",
       "38              D  ...           14         14         16                3   \n",
       "39              H  ...           10         17         13                0   \n",
       "40              D  ...            6         15         14                2   \n",
       "41              A  ...            3          9         13                1   \n",
       "42              D  ...            6          6          9                0   \n",
       "43              H  ...            4         17         17                3   \n",
       "44              H  ...            4         18         14                1   \n",
       "45              H  ...            7         16          5                3   \n",
       "46              D  ...            6         17         21                0   \n",
       "47              H  ...           11         17         12                3   \n",
       "48              D  ...            3         14         13                1   \n",
       "49              H  ...            5         16         28                2   \n",
       "\n",
       "    AwayYellowCards  HomeRedCards  AwayRedCards    Result  Goal_Diff  \\\n",
       "0                 2             0             0  Home Win          4   \n",
       "1                 2             0             0  Home Win          2   \n",
       "2                 3             1             0  Away Win         -2   \n",
       "3                 1             0             0      Draw          0   \n",
       "4                 3             0             0  Home Win          2   \n",
       "5                 3             0             0      Draw          0   \n",
       "6                 1             0             0  Home Win          1   \n",
       "7                 1             0             1  Home Win          1   \n",
       "8                 0             0             0  Home Win          2   \n",
       "9                 1             0             0  Home Win          2   \n",
       "10                4             1             2  Home Win          2   \n",
       "11                1             0             0  Home Win          2   \n",
       "12                4             0             0      Draw          0   \n",
       "13                1             0             0      Draw          0   \n",
       "14                3             1             0  Away Win         -1   \n",
       "15                3             1             0  Home Win          1   \n",
       "16                3             0             0  Away Win         -1   \n",
       "17                1             0             1  Home Win          3   \n",
       "18                3             0             0  Home Win          2   \n",
       "19                0             0             0      Draw          0   \n",
       "20                1             0             0  Home Win          2   \n",
       "21                2             0             0      Draw          0   \n",
       "22                3             0             0      Draw          0   \n",
       "23                1             0             0  Home Win          1   \n",
       "24                3             0             0  Away Win         -1   \n",
       "25                0             0             0  Away Win         -1   \n",
       "26                0             0             0  Home Win          2   \n",
       "27                0             0             0      Draw          0   \n",
       "28                1             0             0      Draw          0   \n",
       "29                2             0             0  Away Win         -1   \n",
       "30                1             0             0  Home Win          6   \n",
       "31                3             0             0      Draw          0   \n",
       "32                2             0             0  Home Win          1   \n",
       "33                1             0             0  Home Win          1   \n",
       "34                2             0             0  Home Win          2   \n",
       "35                2             0             0      Draw          0   \n",
       "36                1             0             0  Away Win         -2   \n",
       "37                1             0             0      Draw          0   \n",
       "38                3             1             0      Draw          0   \n",
       "39                2             0             0      Draw          0   \n",
       "40                2             0             0      Draw          0   \n",
       "41                3             0             0  Away Win         -1   \n",
       "42                0             0             0  Home Win          1   \n",
       "43                4             0             0  Home Win          1   \n",
       "44                3             0             0  Home Win          3   \n",
       "45                0             0             0  Away Win         -1   \n",
       "46                3             0             0      Draw          0   \n",
       "47                1             0             0      Draw          0   \n",
       "48                2             0             0  Home Win          1   \n",
       "49                3             0             0  Home Win          1   \n",
       "\n",
       "    Total_Goals  \n",
       "0             4  \n",
       "1             6  \n",
       "2             4  \n",
       "3             4  \n",
       "4             2  \n",
       "5             0  \n",
       "6             1  \n",
       "7             1  \n",
       "8             4  \n",
       "9             2  \n",
       "10            2  \n",
       "11            2  \n",
       "12            2  \n",
       "13            2  \n",
       "14            1  \n",
       "15            5  \n",
       "16            3  \n",
       "17            3  \n",
       "18            6  \n",
       "19            6  \n",
       "20            8  \n",
       "21            0  \n",
       "22            4  \n",
       "23            1  \n",
       "24            3  \n",
       "25            3  \n",
       "26            2  \n",
       "27            4  \n",
       "28            2  \n",
       "29            3  \n",
       "30            6  \n",
       "31            2  \n",
       "32            5  \n",
       "33            3  \n",
       "34            4  \n",
       "35            6  \n",
       "36            2  \n",
       "37            4  \n",
       "38            2  \n",
       "39            2  \n",
       "40            0  \n",
       "41            3  \n",
       "42            1  \n",
       "43            5  \n",
       "44            3  \n",
       "45            3  \n",
       "46            0  \n",
       "47            4  \n",
       "48            1  \n",
       "49            3  \n",
       "\n",
       "[50 rows x 25 columns]"
      ]
     },
     "execution_count": 3,
     "metadata": {},
     "output_type": "execute_result"
    }
   ],
   "source": [
    "# Display the first 50 rows of the DataFrame\n",
    "df.head(50)"
   ]
  },
  {
   "cell_type": "markdown",
   "id": "59baff84",
   "metadata": {},
   "source": [
    "---"
   ]
  },
  {
   "cell_type": "markdown",
   "id": "53c66a54",
   "metadata": {},
   "source": [
    "# Section 3: Total Home vs Away Goals\n",
    "- We'll start with a high-level comparison of total goals scored by home teams and away teams across the dataset. This helps check for a classic home advantage."
   ]
  },
  {
   "cell_type": "code",
   "execution_count": 4,
   "id": "36b86036",
   "metadata": {},
   "outputs": [
    {
     "data": {
      "image/png": "[encoded data removed]",
      "text/plain": [
       "<Figure size 1400x1000 with 1 Axes>"
      ]
     },
     "metadata": {},
     "output_type": "display_data"
    }
   ],
   "source": [
    "# 1. Total Home vs Away Goals\n",
    "plt.figure(figsize=(14, 10))\n",
    "df[['FullTimeHomeGoals', 'FullTimeAwayGoals']].sum().plot(kind='bar')\n",
    "plt.title('Total Home vs Away Goals')\n",
    "plt.ylabel('Goals')\n",
    "plt.xticks(ticks=[0, 1], labels=['Home Goals', 'Away Goals'], rotation=0)\n",
    "plt.grid(axis='y', linestyle='--', alpha=0.6)"
   ]
  },
  {
   "cell_type": "markdown",
   "id": "0b5b38ef",
   "metadata": {},
   "source": [
    "**Insights: Home vs Away Goals**\n",
    "- This bar chart compares the total number of goals scored by home teams versus away teams. It helps assess whether playing at home provides a scoring advantage — a common trend in football due to crowd support and familiar conditions.\n",
    "- This chart shows the aggregate goals by home and away teams. Historically, the Premier League shows a modest home advantage: home goals > away goals."
   ]
  },
  {
   "cell_type": "markdown",
   "id": "3b4030af",
   "metadata": {},
   "source": [
    "---"
   ]
  },
  {
   "cell_type": "markdown",
   "id": "4bdc1b58",
   "metadata": {},
   "source": [
    "# Section 4: Distribution of Total Goals per Match\n",
    "- We'll inspect how many goals matches typically have (e.g., 0,1,2,3,4+). This helps understand match frequency and variance."
   ]
  },
  {
   "cell_type": "code",
   "execution_count": 5,
   "id": "6c4e20c1",
   "metadata": {},
   "outputs": [
    {
     "data": {
      "image/png": "[encoded data removed]",
      "text/plain": [
       "<Figure size 1200x600 with 1 Axes>"
      ]
     },
     "metadata": {},
     "output_type": "display_data"
    }
   ],
   "source": [
    "# 2. Histogram of Total Goals per Match\n",
    "plt.figure(figsize=(12, 6))\n",
    "df['Total_Goals'].plot(kind='hist', bins=20, color='skyblue', edgecolor='black')\n",
    "plt.title('Distribution of Total Goals per Match')\n",
    "plt.xlabel('Total Goals')\n",
    "plt.ylabel('Frequency')\n",
    "plt.grid(axis='y', linestyle='--', alpha=0.6)"
   ]
  },
  {
   "cell_type": "markdown",
   "id": "9271efdb",
   "metadata": {},
   "source": [
    "**Insights: Goals per Match Distribution**\n",
    "- Most matches tend to cluster around 1-3 goals. \n",
    "- A heavy right tail indicates occasional high-scoring games."
   ]
  },
  {
   "cell_type": "markdown",
   "id": "1e41446d",
   "metadata": {},
   "source": [
    "---"
   ]
  },
  {
   "cell_type": "markdown",
   "id": "a11f7546",
   "metadata": {},
   "source": [
    "# Section 5: Cumulative Points over time\n",
    "- Now that the total goals, home wins and away wins have been determined.\n",
    "- Using the data in the columns to now create a cumulative points system\n",
    "- We provide a function to compute cumulative points for any chosen team. This is great for slides where you track form across a season."
   ]
  },
  {
   "cell_type": "code",
   "execution_count": 6,
   "id": "7bdc7418",
   "metadata": {},
   "outputs": [
    {
     "data": {
      "image/png": "[encoded data removed]",
      "text/plain": [
       "<Figure size 1400x700 with 1 Axes>"
      ]
     },
     "metadata": {},
     "output_type": "display_data"
    }
   ],
   "source": [
    "# 3. Cumulative Points Over Time (Aston Villa)\n",
    "team = \"Aston Villa\"\n",
    "team_df = df[(df['HomeTeam'] == team) | (df['AwayTeam'] == team)].copy()\n",
    "team_df['MatchDate'] = pd.to_datetime(team_df['MatchDate'])\n",
    "\n",
    "def get_points(row, team):\n",
    "    if row['HomeTeam'] == team:\n",
    "        if row['FullTimeResult'] == 'H': return 3\n",
    "        if row['FullTimeResult'] == 'D': return 1\n",
    "    elif row['AwayTeam'] == team:\n",
    "        if row['FullTimeResult'] == 'A': return 3\n",
    "        if row['FullTimeResult'] == 'D': return 1\n",
    "    return 0\n",
    "\n",
    "team_df['Points'] = team_df.apply(lambda row: get_points(row, team), axis=1)\n",
    "team_df.sort_values('MatchDate', inplace=True)\n",
    "team_df['CumulativePoints'] = team_df['Points'].cumsum()\n",
    "\n",
    "plt.figure(figsize=(14, 7))\n",
    "plt.plot(team_df['MatchDate'], team_df['CumulativePoints'], marker='o')\n",
    "plt.title(f'{team} Cumulative Points')\n",
    "plt.ylabel('Points')\n",
    "plt.xticks(rotation=45)\n",
    "plt.grid(True)"
   ]
  },
  {
   "cell_type": "markdown",
   "id": "868c31de",
   "metadata": {},
   "source": [
    "**Insights: Cumulative Points**\n",
    "- This visualization shows momentum and streaks based on Aston Villa.\n",
    "- Sudden slopes indicate winning streaks; long flat sections indicate poor runs. \n",
    "- For presentations, add vertical lines for managerial changes or notable events to contextualize changes."
   ]
  },
  {
   "cell_type": "markdown",
   "id": "9e5dc2e0",
   "metadata": {},
   "source": [
    "---"
   ]
  },
  {
   "cell_type": "markdown",
   "id": "265869ee",
   "metadata": {},
   "source": [
    "# Section 6: Top 10 Scoring Teams\n",
    "\n",
    "- We'll compute total goals per team (home + away) and show the top 10 scorers. \n",
    "- This gives a quick view of the attacking power across teams in the dataset."
   ]
  },
  {
   "cell_type": "code",
   "execution_count": 7,
   "id": "2c6a4c06",
   "metadata": {},
   "outputs": [
    {
     "data": {
      "image/png": "[encoded data removed]",
      "text/plain": [
       "<Figure size 1200x600 with 1 Axes>"
      ]
     },
     "metadata": {},
     "output_type": "display_data"
    }
   ],
   "source": [
    "# 4. Top 10 Scoring Teams\n",
    "home_goals = df.groupby('HomeTeam')['FullTimeHomeGoals'].sum()\n",
    "away_goals = df.groupby('AwayTeam')['FullTimeAwayGoals'].sum()\n",
    "total_goals = home_goals.add(away_goals, fill_value=0).sort_values(ascending=False).head(10)\n",
    "\n",
    "plt.figure(figsize=(12, 6))\n",
    "total_goals.plot(kind='bar')\n",
    "plt.title('Top 10 Scoring Teams')\n",
    "plt.ylabel('Goals')\n",
    "plt.xticks(rotation=45)\n",
    "plt.grid(axis='y', linestyle='--', alpha=0.6)\n",
    "\n",
    "plt.tight_layout(rect=[0, 0, 1, 0.95])\n",
    "plt.suptitle(\"EPL Match Statistics Visualisations\", fontsize=16)\n",
    "plt.show()"
   ]
  },
  {
   "cell_type": "markdown",
   "id": "974da2e8",
   "metadata": {},
   "source": [
    "**Insights: Top Scoring teams**\n",
    "- The top scoring teams are typically among the most successful offensively.\n",
    "- However, total goals do not account for defensive strength — pair this with goal difference or expected metrics for a fuller picture."
   ]
  },
  {
   "cell_type": "markdown",
   "id": "1130112f",
   "metadata": {},
   "source": [
    "---"
   ]
  },
  {
   "cell_type": "markdown",
   "id": "86ef9fa2",
   "metadata": {},
   "source": [
    "# Section 7: Match statistics and Team performance analysis"
   ]
  },
  {
   "cell_type": "code",
   "execution_count": 8,
   "id": "e31fc1e1",
   "metadata": {},
   "outputs": [],
   "source": [
    "# Ensure correct datetime format\n",
    "df['MatchDate'] = pd.to_datetime(df['MatchDate'])"
   ]
  },
  {
   "cell_type": "markdown",
   "id": "9b80ffe7",
   "metadata": {},
   "source": [
    "- This converts the MatchDate column to an actual datetime object in pandas.\n",
    "- Because sometimes dates get read in as strings (text), and if you want to do time-based operations (like extracting the month), you need them in datetime format.\n",
    "- Without this, things like df['MatchDate'].dt.month wouldn’t work."
   ]
  },
  {
   "cell_type": "code",
   "execution_count": 9,
   "id": "11f7ea25",
   "metadata": {},
   "outputs": [],
   "source": [
    "# Compute total goals if not present\n",
    "if 'Total_Goals' not in df.columns:\n",
    "    df['Total_Goals'] = df['FullTimeHomeGoals'] + df['FullTimeAwayGoals']"
   ]
  },
  {
   "cell_type": "markdown",
   "id": "c9ee2805",
   "metadata": {},
   "source": [
    "**Insights: Check total goals**\n",
    "- Checks if a column called Total_Goals already exists.\n",
    "- If it’s missing, it creates one by adding:\n",
    "- FullTimeHomeGoals (home team’s goals in the match)\n",
    "- FullTimeAwayGoals (away team’s goals in the match)"
   ]
  },
  {
   "cell_type": "code",
   "execution_count": 10,
   "id": "faa1c343",
   "metadata": {},
   "outputs": [],
   "source": [
    "# Monthly average goals\n",
    "df['Month'] = df['MatchDate'].dt.month\n",
    "monthly_avg_goals = df.groupby('Month')['Total_Goals'].mean()"
   ]
  },
  {
   "cell_type": "markdown",
   "id": "b24221f9",
   "metadata": {},
   "source": [
    "**Insights: Monthly average goals**\n",
    "- Extracts the month from MatchDate and stores it in a new column Month.\n",
    "- Groups matches by month and calculates the average number of goals per match for each month."
   ]
  },
  {
   "cell_type": "code",
   "execution_count": 11,
   "id": "317a146e",
   "metadata": {},
   "outputs": [],
   "source": [
    "# Goal difference heatmap data\n",
    "goal_diff = df.groupby('HomeTeam')['FullTimeHomeGoals'].sum().subtract(\n",
    "    df.groupby('AwayTeam')['FullTimeAwayGoals'].sum(), fill_value=0)\n",
    "goal_diff_df = pd.DataFrame(goal_diff, columns=['Goal_Difference'])"
   ]
  },
  {
   "cell_type": "markdown",
   "id": "94fbfb02",
   "metadata": {},
   "source": [
    "**Insights: Calculates goal difference for each team across all matches**\n",
    "\n",
    "- df.groupby('HomeTeam')['FullTimeHomeGoals'].sum() - Total home goals scored by each team.\n",
    "- df.groupby('AwayTeam')['FullTimeAwayGoals'].sum() - Total away goals conceded by each team (because these are away team goals).\n",
    "- .subtract(..., fill_value=0) → Subtracts total goals conceded from total goals scored, handling teams that might not appear in one of the lists (fill_value=0).\n",
    "- Stores the result in a DataFrame called goal_diff_df for possible visualization (e.g., heatmap)."
   ]
  },
  {
   "cell_type": "code",
   "execution_count": 12,
   "id": "1165677b",
   "metadata": {},
   "outputs": [],
   "source": [
    "# Result distribution\n",
    "result_counts = df['FullTimeResult'].value_counts()"
   ]
  },
  {
   "cell_type": "markdown",
   "id": "9cf2cb52",
   "metadata": {},
   "source": [
    "**Insights: Results outcome**\n",
    "- Counts how many matches ended in:\n",
    "- H = Home Win\n",
    "- A = Away Win\n",
    "- D = Draw"
   ]
  },
  {
   "cell_type": "code",
   "execution_count": 13,
   "id": "5057bde8",
   "metadata": {},
   "outputs": [],
   "source": [
    "# Points per match\n",
    "def assign_points(row):\n",
    "    if row['FullTimeResult'] == 'H':\n",
    "        return {row['HomeTeam']: 3, row['AwayTeam']: 0}\n",
    "    elif row['FullTimeResult'] == 'A':\n",
    "        return {row['HomeTeam']: 0, row['AwayTeam']: 3}\n",
    "    else:\n",
    "        return {row['HomeTeam']: 1, row['AwayTeam']: 1}\n",
    "\n",
    "points_dict = {}\n",
    "for _, row in df.iterrows():\n",
    "    pts = assign_points(row)\n",
    "    for team, p in pts.items():\n",
    "        points_dict[team] = points_dict.get(team, []) + [p]\n",
    "\n",
    "points_per_match = {team: sum(pts)/len(pts) for team, pts in points_dict.items()}\n",
    "points_series = pd.Series(points_per_match).sort_values(ascending=False)"
   ]
  },
  {
   "cell_type": "markdown",
   "id": "404563b2",
   "metadata": {},
   "source": [
    "**Insights: Defines a function that assigns points based on the result:**\n",
    "\n",
    "- Home win (H) - 3 points to home team, 0 to away.\n",
    "- Away win (A) - 0 points to home team, 3 to away.\n",
    "- Draw - 1 point each.\n",
    "- Loops through each match (iterrows() goes row-by-row).\n",
    "- Calls assign_points to get a {team: points} dictionary for that match.\n",
    "- Adds those points to a growing dictionary (points_dict) that tracks a list of points for each team across matches.\n",
    "- Calculates average points per match for each team:\n",
    "- sum(pts) = total points earned\n",
    "- len(pts) = number of matches played\n",
    "- Creates a pandas Series, sorts it in descending order so the team with the highest average points per match is at the top."
   ]
  },
  {
   "cell_type": "markdown",
   "id": "48d0e500",
   "metadata": {},
   "source": [
    "---"
   ]
  },
  {
   "cell_type": "markdown",
   "id": "2484c159",
   "metadata": {},
   "source": [
    "# Section 8: Monthly Average Goals (Seasonality)\n",
    "- We compute the average goals per match for each month to inspect seasonality — e.g., winter fixtures often have different trends from early/late season."
   ]
  },
  {
   "cell_type": "code",
   "execution_count": 14,
   "id": "0f3553f5",
   "metadata": {},
   "outputs": [
    {
     "data": {
      "image/png": "[encoded data removed]",
      "text/plain": [
       "<Figure size 1800x1200 with 1 Axes>"
      ]
     },
     "metadata": {},
     "output_type": "display_data"
    }
   ],
   "source": [
    "# Plot 1: Monthly Goals\n",
    "plt.figure(figsize=(18, 12))\n",
    "plt.subplot(2, 2, 1)\n",
    "monthly_avg_goals.plot(kind='line', marker='o')\n",
    "plt.title(\"Average Goals per Match by Month\")\n",
    "plt.xlabel(\"Month\")\n",
    "plt.ylabel(\"Average Goals\")\n",
    "plt.grid(True)"
   ]
  },
  {
   "cell_type": "markdown",
   "id": "d682dc06",
   "metadata": {},
   "source": [
    "**Insights: Monthly Goal Trends**\n",
    "\n",
    "- This reveals if there are months with notably higher or lower scoring rates. \n",
    "- Look for dips during winter months or spikes in early/late season. \n",
    "- This can also be in grouping by season-year for clearer signals."
   ]
  },
  {
   "cell_type": "markdown",
   "id": "ac84cdf7",
   "metadata": {},
   "source": [
    "---"
   ]
  },
  {
   "cell_type": "markdown",
   "id": "0ef600a6",
   "metadata": {},
   "source": [
    "# Section 9: Goal Difference\n",
    "- We'll compute a simple goal difference proxy by subtracting total away goals conceded (based on away goals column) from total home goals. \n",
    "- This creates a quick view of net scoring advantage at home."
   ]
  },
  {
   "cell_type": "code",
   "execution_count": 15,
   "id": "f91a3e14",
   "metadata": {},
   "outputs": [
    {
     "data": {
      "image/png": "[encoded data removed]",
      "text/plain": [
       "<Figure size 1200x1000 with 2 Axes>"
      ]
     },
     "metadata": {},
     "output_type": "display_data"
    }
   ],
   "source": [
    "# Plot 2: Heatmap Goal Diff - Improved version\n",
    "plt.figure(figsize=(12, 10))  # Create a new figure with larger size\n",
    "sns.heatmap(goal_diff_df.sort_values('Goal_Difference', ascending=False), \n",
    "            annot=True, \n",
    "            fmt='.0f', \n",
    "            cmap=\"coolwarm\",\n",
    "            cbar_kws={'label': 'Goal Difference'},\n",
    "            annot_kws={'size': 10},  # Increase annotation font size\n",
    "            square=False,  # Allow rectangular cells\n",
    "            linewidths=0.5)  # Add grid lines between cells\n",
    "plt.title(\"Goal Difference (Home - Away) by Team\", fontsize=14, pad=20)\n",
    "plt.xlabel(\"\", fontsize=12)\n",
    "plt.ylabel(\"Teams\", fontsize=12)\n",
    "plt.xticks(rotation=0)\n",
    "plt.yticks(rotation=0)\n",
    "plt.tight_layout()\n",
    "plt.show()"
   ]
  },
  {
   "cell_type": "markdown",
   "id": "bd030e2a",
   "metadata": {},
   "source": [
    "**Insights: Goal Difference Heatmap**\n",
    "- This is a heuristic indicator of which teams get the most from playing at home versus conceding away\n",
    "- Bear in mind this mixes roles (home/away) and seasons\n",
    "- For a clearer metric, compute season-by-season or use goals_for and goals_against per team."
   ]
  },
  {
   "cell_type": "markdown",
   "id": "47b82340",
   "metadata": {},
   "source": [
    "---"
   ]
  },
  {
   "cell_type": "markdown",
   "id": "40a2820e",
   "metadata": {},
   "source": [
    "# Section 10: Match Result Distribution\n",
    "Let's look at how often home wins, away wins and draws occur. This tells us about how competitive the league is and complements the goal analysis.\n",
    "\n",
    "- Percentages of match results\n",
    "- Home win\n",
    "- Away win\n",
    "- Draw"
   ]
  },
  {
   "cell_type": "code",
   "execution_count": 16,
   "id": "7ca9ec1a",
   "metadata": {},
   "outputs": [
    {
     "data": {
      "text/plain": [
       "Text(0, 0.5, '')"
      ]
     },
     "execution_count": 16,
     "metadata": {},
     "output_type": "execute_result"
    },
    {
     "data": {
      "image/png": "[encoded data removed]",
      "text/plain": [
       "<Figure size 800x800 with 1 Axes>"
      ]
     },
     "metadata": {},
     "output_type": "display_data"
    }
   ],
   "source": [
    "# Plot 3: Pie Chart of Results\n",
    "plt.figure(figsize=(8, 8))\n",
    "result_counts.plot(kind='pie', autopct='%1.1f%%', startangle=90, shadow=True)\n",
    "plt.title(\"Match Result Distribution\")\n",
    "plt.ylabel('')"
   ]
  },
  {
   "cell_type": "markdown",
   "id": "ee4cc006",
   "metadata": {},
   "source": [
    "**Insights: Results Breakdown**\n",
    "\n",
    "Compare the percentage of home wins vs away wins. A strong home advantage would show a sizeable higher percentage of home wins. Draw percentage indicates parity in the league.\n",
    "\n",
    "- Home wins are at a higher percentage of 45.8%\n",
    "- Away win are at a percentage of 29.5%\n",
    "- Draw are at a percentage of 24.7%"
   ]
  },
  {
   "cell_type": "markdown",
   "id": "41b5029a",
   "metadata": {},
   "source": [
    "---"
   ]
  },
  {
   "cell_type": "markdown",
   "id": "8388150d",
   "metadata": {},
   "source": [
    "# Section 11: Points per Match (Team-level)\n",
    "- We'll convert each match to points for the home team and away team H=3, A=3 and D=1 and compute average points per match for each team. \n",
    "- This approximates long-run strength."
   ]
  },
  {
   "cell_type": "code",
   "execution_count": 17,
   "id": "db7f0aa6",
   "metadata": {},
   "outputs": [
    {
     "data": {
      "application/vnd.plotly.v1+json": {
       "config": {
        "plotlyServerURL": "https://plot.ly"
       },
       "data": [
        {
         "marker": {
          "color": "skyblue",
          "line": {
           "color": "darkblue",
           "width": 1
          }
         },
         "type": "bar",
         "x": [
          "Man United",
          "Arsenal",
          "Chelsea",
          "Liverpool",
          "Man City",
          "Tottenham",
          "Everton",
          "Newcastle",
          "Brentford",
          "Aston Villa",
          "Leeds",
          "Blackburn",
          "Leicester",
          "Brighton",
          "West Ham",
          "Charlton",
          "Nott'm Forest",
          "Bolton",
          "Stoke",
          "Swansea",
          "Crystal Palace",
          "Bournemouth",
          "Wolves",
          "Fulham",
          "Southampton",
          "Birmingham",
          "Middlesbrough",
          "Ipswich",
          "Portsmouth",
          "Wigan",
          "Reading",
          "Blackpool",
          "Burnley",
          "West Brom",
          "Watford",
          "Sunderland",
          "Hull",
          "Coventry",
          "Norwich",
          "Sheffield United",
          "Cardiff",
          "QPR",
          "Derby",
          "Huddersfield",
          "Bradford",
          "Luton"
         ],
         "y": {
          "bdata": "75/vpZCb/z8umBujMwv/PzFsVFO3+f4/jYn0QOXs/j8GW7AFW7D9Py78akykB/o/Irp/vpdC9j+lzt0OJoD1P3cPW98GDPU/tlRnS3W29D/BP/NoUYn0P2RkZGRkZPQ/dWt+WKQM9D/uiDvijrjzP4Gbhsotq/M/5ow5Y86Y8z9aN5gin3XzP0fjcjQuR/M/4HNLnPo98z9FLBWxVMTyP/XLJDZ/wvI/qhhPD2ao8j9/AvYnYH/yP0tEk8K+dPI/6jZsAsFl8j+HvCFvyBvyPwYWWGCBBfI/+x29Mrbf8T93xB1xR9zxP72G8hrKa/E/OovpLKaz8D+9hvIaymvwPz2F9RTWU/A/+tLlYf287z9g9oDZA2bvP3P0zdE3R+8/zczMzMzM7D8bymsor6HsPy0j+oDq2Os/Q3kN5TWU6z8or6G8hvLqPzGdxXQW0+k/xnQW01lM5z8N5TWU11DmP1FeQ3kN5eU/UV5DeQ3l5T8=",
          "dtype": "f8"
         }
        }
       ],
       "layout": {
        "height": 400,
        "margin": {
         "b": 100
        },
        "showlegend": false,
        "template": {
         "data": {
          "bar": [
           {
            "error_x": {
             "color": "#2a3f5f"
            },
            "error_y": {
             "color": "#2a3f5f"
            },
            "marker": {
             "line": {
              "color": "#E5ECF6",
              "width": 0.5
             },
             "pattern": {
              "fillmode": "overlay",
              "size": 10,
              "solidity": 0.2
             }
            },
            "type": "bar"
           }
          ],
          "barpolar": [
           {
            "marker": {
             "line": {
              "color": "#E5ECF6",
              "width": 0.5
             },
             "pattern": {
              "fillmode": "overlay",
              "size": 10,
              "solidity": 0.2
             }
            },
            "type": "barpolar"
           }
          ],
          "carpet": [
           {
            "aaxis": {
             "endlinecolor": "#2a3f5f",
             "gridcolor": "white",
             "linecolor": "white",
             "minorgridcolor": "white",
             "startlinecolor": "#2a3f5f"
            },
            "baxis": {
             "endlinecolor": "#2a3f5f",
             "gridcolor": "white",
             "linecolor": "white",
             "minorgridcolor": "white",
             "startlinecolor": "#2a3f5f"
            },
            "type": "carpet"
           }
          ],
          "choropleth": [
           {
            "colorbar": {
             "outlinewidth": 0,
             "ticks": ""
            },
            "type": "choropleth"
           }
          ],
          "contour": [
           {
            "colorbar": {
             "outlinewidth": 0,
             "ticks": ""
            },
            "colorscale": [
             [
              0,
              "#0d0887"
             ],
             [
              0.1111111111111111,
              "#46039f"
             ],
             [
              0.2222222222222222,
              "#7201a8"
             ],
             [
              0.3333333333333333,
              "#9c179e"
             ],
             [
              0.4444444444444444,
              "#bd3786"
             ],
             [
              0.5555555555555556,
              "#d8576b"
             ],
             [
              0.6666666666666666,
              "#ed7953"
             ],
             [
              0.7777777777777778,
              "#fb9f3a"
             ],
             [
              0.8888888888888888,
              "#fdca26"
             ],
             [
              1,
              "#f0f921"
             ]
            ],
            "type": "contour"
           }
          ],
          "contourcarpet": [
           {
            "colorbar": {
             "outlinewidth": 0,
             "ticks": ""
            },
            "type": "contourcarpet"
           }
          ],
          "heatmap": [
           {
            "colorbar": {
             "outlinewidth": 0,
             "ticks": ""
            },
            "colorscale": [
             [
              0,
              "#0d0887"
             ],
             [
              0.1111111111111111,
              "#46039f"
             ],
             [
              0.2222222222222222,
              "#7201a8"
             ],
             [
              0.3333333333333333,
              "#9c179e"
             ],
             [
              0.4444444444444444,
              "#bd3786"
             ],
             [
              0.5555555555555556,
              "#d8576b"
             ],
             [
              0.6666666666666666,
              "#ed7953"
             ],
             [
              0.7777777777777778,
              "#fb9f3a"
             ],
             [
              0.8888888888888888,
              "#fdca26"
             ],
             [
              1,
              "#f0f921"
             ]
            ],
            "type": "heatmap"
           }
          ],
          "histogram": [
           {
            "marker": {
             "pattern": {
              "fillmode": "overlay",
              "size": 10,
              "solidity": 0.2
             }
            },
            "type": "histogram"
           }
          ],
          "histogram2d": [
           {
            "colorbar": {
             "outlinewidth": 0,
             "ticks": ""
            },
            "colorscale": [
             [
              0,
              "#0d0887"
             ],
             [
              0.1111111111111111,
              "#46039f"
             ],
             [
              0.2222222222222222,
              "#7201a8"
             ],
             [
              0.3333333333333333,
              "#9c179e"
             ],
             [
              0.4444444444444444,
              "#bd3786"
             ],
             [
              0.5555555555555556,
              "#d8576b"
             ],
             [
              0.6666666666666666,
              "#ed7953"
             ],
             [
              0.7777777777777778,
              "#fb9f3a"
             ],
             [
              0.8888888888888888,
              "#fdca26"
             ],
             [
              1,
              "#f0f921"
             ]
            ],
            "type": "histogram2d"
           }
          ],
          "histogram2dcontour": [
           {
            "colorbar": {
             "outlinewidth": 0,
             "ticks": ""
            },
            "colorscale": [
             [
              0,
              "#0d0887"
             ],
             [
              0.1111111111111111,
              "#46039f"
             ],
             [
              0.2222222222222222,
              "#7201a8"
             ],
             [
              0.3333333333333333,
              "#9c179e"
             ],
             [
              0.4444444444444444,
              "#bd3786"
             ],
             [
              0.5555555555555556,
              "#d8576b"
             ],
             [
              0.6666666666666666,
              "#ed7953"
             ],
             [
              0.7777777777777778,
              "#fb9f3a"
             ],
             [
              0.8888888888888888,
              "#fdca26"
             ],
             [
              1,
              "#f0f921"
             ]
            ],
            "type": "histogram2dcontour"
           }
          ],
          "mesh3d": [
           {
            "colorbar": {
             "outlinewidth": 0,
             "ticks": ""
            },
            "type": "mesh3d"
           }
          ],
          "parcoords": [
           {
            "line": {
             "colorbar": {
              "outlinewidth": 0,
              "ticks": ""
             }
            },
            "type": "parcoords"
           }
          ],
          "pie": [
           {
            "automargin": true,
            "type": "pie"
           }
          ],
          "scatter": [
           {
            "fillpattern": {
             "fillmode": "overlay",
             "size": 10,
             "solidity": 0.2
            },
            "type": "scatter"
           }
          ],
          "scatter3d": [
           {
            "line": {
             "colorbar": {
              "outlinewidth": 0,
              "ticks": ""
             }
            },
            "marker": {
             "colorbar": {
              "outlinewidth": 0,
              "ticks": ""
             }
            },
            "type": "scatter3d"
           }
          ],
          "scattercarpet": [
           {
            "marker": {
             "colorbar": {
              "outlinewidth": 0,
              "ticks": ""
             }
            },
            "type": "scattercarpet"
           }
          ],
          "scattergeo": [
           {
            "marker": {
             "colorbar": {
              "outlinewidth": 0,
              "ticks": ""
             }
            },
            "type": "scattergeo"
           }
          ],
          "scattergl": [
           {
            "marker": {
             "colorbar": {
              "outlinewidth": 0,
              "ticks": ""
             }
            },
            "type": "scattergl"
           }
          ],
          "scattermap": [
           {
            "marker": {
             "colorbar": {
              "outlinewidth": 0,
              "ticks": ""
             }
            },
            "type": "scattermap"
           }
          ],
          "scattermapbox": [
           {
            "marker": {
             "colorbar": {
              "outlinewidth": 0,
              "ticks": ""
             }
            },
            "type": "scattermapbox"
           }
          ],
          "scatterpolar": [
           {
            "marker": {
             "colorbar": {
              "outlinewidth": 0,
              "ticks": ""
             }
            },
            "type": "scatterpolar"
           }
          ],
          "scatterpolargl": [
           {
            "marker": {
             "colorbar": {
              "outlinewidth": 0,
              "ticks": ""
             }
            },
            "type": "scatterpolargl"
           }
          ],
          "scatterternary": [
           {
            "marker": {
             "colorbar": {
              "outlinewidth": 0,
              "ticks": ""
             }
            },
            "type": "scatterternary"
           }
          ],
          "surface": [
           {
            "colorbar": {
             "outlinewidth": 0,
             "ticks": ""
            },
            "colorscale": [
             [
              0,
              "#0d0887"
             ],
             [
              0.1111111111111111,
              "#46039f"
             ],
             [
              0.2222222222222222,
              "#7201a8"
             ],
             [
              0.3333333333333333,
              "#9c179e"
             ],
             [
              0.4444444444444444,
              "#bd3786"
             ],
             [
              0.5555555555555556,
              "#d8576b"
             ],
             [
              0.6666666666666666,
              "#ed7953"
             ],
             [
              0.7777777777777778,
              "#fb9f3a"
             ],
             [
              0.8888888888888888,
              "#fdca26"
             ],
             [
              1,
              "#f0f921"
             ]
            ],
            "type": "surface"
           }
          ],
          "table": [
           {
            "cells": {
             "fill": {
              "color": "#EBF0F8"
             },
             "line": {
              "color": "white"
             }
            },
            "header": {
             "fill": {
              "color": "#C8D4E3"
             },
             "line": {
              "color": "white"
             }
            },
            "type": "table"
           }
          ]
         },
         "layout": {
          "annotationdefaults": {
           "arrowcolor": "#2a3f5f",
           "arrowhead": 0,
           "arrowwidth": 1
          },
          "autotypenumbers": "strict",
          "coloraxis": {
           "colorbar": {
            "outlinewidth": 0,
            "ticks": ""
           }
          },
          "colorscale": {
           "diverging": [
            [
             0,
             "#8e0152"
            ],
            [
             0.1,
             "#c51b7d"
            ],
            [
             0.2,
             "#de77ae"
            ],
            [
             0.3,
             "#f1b6da"
            ],
            [
             0.4,
             "#fde0ef"
            ],
            [
             0.5,
             "#f7f7f7"
            ],
            [
             0.6,
             "#e6f5d0"
            ],
            [
             0.7,
             "#b8e186"
            ],
            [
             0.8,
             "#7fbc41"
            ],
            [
             0.9,
             "#4d9221"
            ],
            [
             1,
             "#276419"
            ]
           ],
           "sequential": [
            [
             0,
             "#0d0887"
            ],
            [
             0.1111111111111111,
             "#46039f"
            ],
            [
             0.2222222222222222,
             "#7201a8"
            ],
            [
             0.3333333333333333,
             "#9c179e"
            ],
            [
             0.4444444444444444,
             "#bd3786"
            ],
            [
             0.5555555555555556,
             "#d8576b"
            ],
            [
             0.6666666666666666,
             "#ed7953"
            ],
            [
             0.7777777777777778,
             "#fb9f3a"
            ],
            [
             0.8888888888888888,
             "#fdca26"
            ],
            [
             1,
             "#f0f921"
            ]
           ],
           "sequentialminus": [
            [
             0,
             "#0d0887"
            ],
            [
             0.1111111111111111,
             "#46039f"
            ],
            [
             0.2222222222222222,
             "#7201a8"
            ],
            [
             0.3333333333333333,
             "#9c179e"
            ],
            [
             0.4444444444444444,
             "#bd3786"
            ],
            [
             0.5555555555555556,
             "#d8576b"
            ],
            [
             0.6666666666666666,
             "#ed7953"
            ],
            [
             0.7777777777777778,
             "#fb9f3a"
            ],
            [
             0.8888888888888888,
             "#fdca26"
            ],
            [
             1,
             "#f0f921"
            ]
           ]
          },
          "colorway": [
           "#636efa",
           "#EF553B",
           "#00cc96",
           "#ab63fa",
           "#FFA15A",
           "#19d3f3",
           "#FF6692",
           "#B6E880",
           "#FF97FF",
           "#FECB52"
          ],
          "font": {
           "color": "#2a3f5f"
          },
          "geo": {
           "bgcolor": "white",
           "lakecolor": "white",
           "landcolor": "#E5ECF6",
           "showlakes": true,
           "showland": true,
           "subunitcolor": "white"
          },
          "hoverlabel": {
           "align": "left"
          },
          "hovermode": "closest",
          "mapbox": {
           "style": "light"
          },
          "paper_bgcolor": "white",
          "plot_bgcolor": "#E5ECF6",
          "polar": {
           "angularaxis": {
            "gridcolor": "white",
            "linecolor": "white",
            "ticks": ""
           },
           "bgcolor": "#E5ECF6",
           "radialaxis": {
            "gridcolor": "white",
            "linecolor": "white",
            "ticks": ""
           }
          },
          "scene": {
           "xaxis": {
            "backgroundcolor": "#E5ECF6",
            "gridcolor": "white",
            "gridwidth": 2,
            "linecolor": "white",
            "showbackground": true,
            "ticks": "",
            "zerolinecolor": "white"
           },
           "yaxis": {
            "backgroundcolor": "#E5ECF6",
            "gridcolor": "white",
            "gridwidth": 2,
            "linecolor": "white",
            "showbackground": true,
            "ticks": "",
            "zerolinecolor": "white"
           },
           "zaxis": {
            "backgroundcolor": "#E5ECF6",
            "gridcolor": "white",
            "gridwidth": 2,
            "linecolor": "white",
            "showbackground": true,
            "ticks": "",
            "zerolinecolor": "white"
           }
          },
          "shapedefaults": {
           "line": {
            "color": "#2a3f5f"
           }
          },
          "ternary": {
           "aaxis": {
            "gridcolor": "white",
            "linecolor": "white",
            "ticks": ""
           },
           "baxis": {
            "gridcolor": "white",
            "linecolor": "white",
            "ticks": ""
           },
           "bgcolor": "#E5ECF6",
           "caxis": {
            "gridcolor": "white",
            "linecolor": "white",
            "ticks": ""
           }
          },
          "title": {
           "x": 0.05
          },
          "xaxis": {
           "automargin": true,
           "gridcolor": "white",
           "linecolor": "white",
           "ticks": "",
           "title": {
            "standoff": 15
           },
           "zerolinecolor": "white",
           "zerolinewidth": 2
          },
          "yaxis": {
           "automargin": true,
           "gridcolor": "white",
           "linecolor": "white",
           "ticks": "",
           "title": {
            "standoff": 15
           },
           "zerolinecolor": "white",
           "zerolinewidth": 2
          }
         }
        },
        "title": {
         "font": {
          "size": 16
         },
         "text": "Average Points per Match by Team",
         "x": 0.5,
         "xanchor": "center"
        },
        "width": 1100,
        "xaxis": {
         "tickangle": 45,
         "tickfont": {
          "size": 10
         },
         "title": {
          "text": "Teams"
         }
        },
        "yaxis": {
         "tickfont": {
          "size": 12
         },
         "title": {
          "text": "Points"
         }
        }
       }
      }
     },
     "metadata": {},
     "output_type": "display_data"
    }
   ],
   "source": [
    "# Plot 4: First, make sure these variables are defined by running the prerequisite cells:\n",
    "\n",
    "# Result distribution\n",
    "result_counts = df['FullTimeResult'].value_counts()\n",
    "\n",
    "# Points per match calculation\n",
    "def assign_points(row):\n",
    "    if row['FullTimeResult'] == 'H':\n",
    "        return {row['HomeTeam']: 3, row['AwayTeam']: 0}\n",
    "    elif row['FullTimeResult'] == 'A':\n",
    "        return {row['HomeTeam']: 0, row['AwayTeam']: 3}\n",
    "    else:\n",
    "        return {row['HomeTeam']: 1, row['AwayTeam']: 1}\n",
    "\n",
    "points_dict = {}\n",
    "for _, row in df.iterrows():\n",
    "    pts = assign_points(row)\n",
    "    for team, p in pts.items():\n",
    "        points_dict[team] = points_dict.get(team, []) + [p]\n",
    "\n",
    "points_per_match = {team: sum(pts)/len(pts) for team, pts in points_dict.items()}\n",
    "points_series = pd.Series(points_per_match).sort_values(ascending=False)\n",
    "\n",
    "# Now the Plotly visualization will work:\n",
    "import plotly.express as px\n",
    "import plotly.graph_objects as go\n",
    "\n",
    "# Convert to Plotly bar chart\n",
    "fig = go.Figure(data=[\n",
    "    go.Bar(\n",
    "        x=points_series.index,\n",
    "        y=points_series.values,\n",
    "        marker_color='skyblue',\n",
    "        marker_line_color='darkblue',\n",
    "        marker_line_width=1\n",
    "    )\n",
    "])\n",
    "\n",
    "fig.update_layout(\n",
    "    title={\n",
    "        'text': \"Average Points per Match by Team\",\n",
    "        'x': 0.5,\n",
    "        'xanchor': 'center',\n",
    "        'font': {'size': 16}\n",
    "    },\n",
    "    xaxis_title=\"Teams\",\n",
    "    yaxis_title=\"Points\",\n",
    "    xaxis={\n",
    "        'tickangle': 45,\n",
    "        'tickfont': {'size': 10}\n",
    "    },\n",
    "    yaxis={'tickfont': {'size': 12}},\n",
    "    width=1100,\n",
    "    height=400,\n",
    "    margin=dict(b=100),\n",
    "    showlegend=False\n",
    ")\n",
    "\n",
    "fig.show()"
   ]
  },
  {
   "cell_type": "markdown",
   "id": "5d2af525",
   "metadata": {},
   "source": [
    "**Insights: Average Points per Match**\n",
    "- Teams with the highest average points are likely stable top-four or top-half teams. \n",
    "- This metric is useful to compare across seasons—however be careful when teams have significantly different numbers of matches (e.g., dataset includes partial seasons)."
   ]
  },
  {
   "cell_type": "markdown",
   "id": "3756402c",
   "metadata": {},
   "source": [
    "---"
   ]
  },
  {
   "cell_type": "markdown",
   "id": "d939b38e",
   "metadata": {},
   "source": [
    "# Section 12: xG vs Actual goals \n",
    "- (Synthetic xG Generation & xG vs Actual Comparison)\n",
    "- If the dataset does not contain expected goals (xG), we create a synthetic xG for demonstration only."
   ]
  },
  {
   "cell_type": "code",
   "execution_count": 18,
   "id": "20465e48",
   "metadata": {},
   "outputs": [],
   "source": [
    "# Synthetic xG generation\n",
    "np.random.seed(42)\n",
    "if 'Home_xG' not in df.columns:\n",
    "    df['Home_xG'] = df['FullTimeHomeGoals'] + np.random.normal(0, 0.5, size=len(df))\n",
    "if 'Away_xG' not in df.columns:\n",
    "    df['Away_xG'] = df['FullTimeAwayGoals'] + np.random.normal(0, 0.5, size=len(df))"
   ]
  },
  {
   "cell_type": "markdown",
   "id": "a2cd1566",
   "metadata": {},
   "source": [
    "- The goal here is to show how to compare expected vs actual goals visually."
   ]
  },
  {
   "cell_type": "code",
   "execution_count": 27,
   "id": "bac2433c",
   "metadata": {},
   "outputs": [
    {
     "name": "stderr",
     "output_type": "stream",
     "text": [
      "C:\\Users\\ajayc\\AppData\\Local\\Temp\\ipykernel_12580\\1790640270.py:23: UserWarning:\n",
      "\n",
      "Glyph 127919 (\\N{DIRECT HIT}) missing from font(s) DejaVu Sans.\n",
      "\n",
      "c:\\Projects\\english-premier-league-capstone-project\\english-premier-league-capstone-project\\.venv\\Lib\\site-packages\\IPython\\core\\pylabtools.py:170: UserWarning:\n",
      "\n",
      "Glyph 127919 (\\N{DIRECT HIT}) missing from font(s) DejaVu Sans.\n",
      "\n"
     ]
    },
    {
     "data": {
      "image/png": "[encoded data removed]",
      "text/plain": [
       "<Figure size 1200x600 with 1 Axes>"
      ]
     },
     "metadata": {},
     "output_type": "display_data"
    }
   ],
   "source": [
    "# Plot 5: Create synthetic xG values for demonstration\n",
    "np.random.seed(42)\n",
    "df['Home_xG'] = df['FullTimeHomeGoals'] + np.random.normal(0, 0.5, size=len(df))\n",
    "df['Away_xG'] = df['FullTimeAwayGoals'] + np.random.normal(0, 0.5, size=len(df))\n",
    "\n",
    "team_xg = df.groupby('HomeTeam')[['FullTimeHomeGoals', 'Home_xG']].sum().rename_axis(\"Team\").reset_index()\n",
    "team_xg.columns = ['Team', 'ActualGoals', 'ExpectedGoals']\n",
    "\n",
    "plt.figure(figsize=(12, 6))\n",
    "plt.scatter(team_xg['ExpectedGoals'], team_xg['ActualGoals'])\n",
    "\n",
    "for i, row in team_xg.iterrows():\n",
    "    plt.text(row['ExpectedGoals'], row['ActualGoals'], row['Team'], fontsize=8)\n",
    "\n",
    "plt.plot([team_xg['ExpectedGoals'].min(), team_xg['ExpectedGoals'].max()],\n",
    "         [team_xg['ExpectedGoals'].min(), team_xg['ExpectedGoals'].max()],\n",
    "         'r--', label='Expected = Actual')\n",
    "plt.xlabel(\"Expected Goals (xG)\")\n",
    "plt.ylabel(\"Actual Goals\")\n",
    "plt.title(\"🎯 xG vs Actual Goals (Home Matches)\")\n",
    "plt.legend()\n",
    "plt.grid(True)\n",
    "plt.tight_layout()\n",
    "plt.show()\n"
   ]
  },
  {
   "cell_type": "markdown",
   "id": "8f212a82",
   "metadata": {},
   "source": [
    "**Insights: xG vs Actual**\n",
    "- Points above the dashed line indicate teams that outscored their expected goals (maybe clinical finishers or lucky)\n",
    "- while points below indicate underperformance relative to xG."
   ]
  },
  {
   "cell_type": "code",
   "execution_count": 23,
   "id": "4b48a697",
   "metadata": {},
   "outputs": [
    {
     "data": {
      "text/html": [
       "<div>\n",
       "<style scoped>\n",
       "    .dataframe tbody tr th:only-of-type {\n",
       "        vertical-align: middle;\n",
       "    }\n",
       "\n",
       "    .dataframe tbody tr th {\n",
       "        vertical-align: top;\n",
       "    }\n",
       "\n",
       "    .dataframe thead th {\n",
       "        text-align: right;\n",
       "    }\n",
       "</style>\n",
       "<table border=\"1\" class=\"dataframe\">\n",
       "  <thead>\n",
       "    <tr style=\"text-align: right;\">\n",
       "      <th></th>\n",
       "      <th>Season</th>\n",
       "      <th>MatchDate</th>\n",
       "      <th>HomeTeam</th>\n",
       "      <th>AwayTeam</th>\n",
       "      <th>FullTimeHomeGoals</th>\n",
       "      <th>FullTimeAwayGoals</th>\n",
       "      <th>FullTimeResult</th>\n",
       "      <th>HalfTimeHomeGoals</th>\n",
       "      <th>HalfTimeAwayGoals</th>\n",
       "      <th>HalfTimeResult</th>\n",
       "      <th>...</th>\n",
       "      <th>HomeYellowCards</th>\n",
       "      <th>AwayYellowCards</th>\n",
       "      <th>HomeRedCards</th>\n",
       "      <th>AwayRedCards</th>\n",
       "      <th>Result</th>\n",
       "      <th>Goal_Diff</th>\n",
       "      <th>Total_Goals</th>\n",
       "      <th>Month</th>\n",
       "      <th>Home_xG</th>\n",
       "      <th>Away_xG</th>\n",
       "    </tr>\n",
       "  </thead>\n",
       "  <tbody>\n",
       "    <tr>\n",
       "      <th>0</th>\n",
       "      <td>2000/01</td>\n",
       "      <td>2000-08-19</td>\n",
       "      <td>Charlton</td>\n",
       "      <td>Man City</td>\n",
       "      <td>4</td>\n",
       "      <td>0</td>\n",
       "      <td>H</td>\n",
       "      <td>2</td>\n",
       "      <td>0</td>\n",
       "      <td>H</td>\n",
       "      <td>...</td>\n",
       "      <td>1</td>\n",
       "      <td>2</td>\n",
       "      <td>0</td>\n",
       "      <td>0</td>\n",
       "      <td>Home Win</td>\n",
       "      <td>4</td>\n",
       "      <td>4</td>\n",
       "      <td>8</td>\n",
       "      <td>4.248357</td>\n",
       "      <td>-0.001119</td>\n",
       "    </tr>\n",
       "    <tr>\n",
       "      <th>1</th>\n",
       "      <td>2000/01</td>\n",
       "      <td>2000-08-19</td>\n",
       "      <td>Chelsea</td>\n",
       "      <td>West Ham</td>\n",
       "      <td>4</td>\n",
       "      <td>2</td>\n",
       "      <td>H</td>\n",
       "      <td>1</td>\n",
       "      <td>0</td>\n",
       "      <td>H</td>\n",
       "      <td>...</td>\n",
       "      <td>1</td>\n",
       "      <td>2</td>\n",
       "      <td>0</td>\n",
       "      <td>0</td>\n",
       "      <td>Home Win</td>\n",
       "      <td>2</td>\n",
       "      <td>6</td>\n",
       "      <td>8</td>\n",
       "      <td>3.930868</td>\n",
       "      <td>1.466283</td>\n",
       "    </tr>\n",
       "    <tr>\n",
       "      <th>2</th>\n",
       "      <td>2000/01</td>\n",
       "      <td>2000-08-19</td>\n",
       "      <td>Coventry</td>\n",
       "      <td>Middlesbrough</td>\n",
       "      <td>1</td>\n",
       "      <td>3</td>\n",
       "      <td>A</td>\n",
       "      <td>1</td>\n",
       "      <td>1</td>\n",
       "      <td>D</td>\n",
       "      <td>...</td>\n",
       "      <td>5</td>\n",
       "      <td>3</td>\n",
       "      <td>1</td>\n",
       "      <td>0</td>\n",
       "      <td>Away Win</td>\n",
       "      <td>-2</td>\n",
       "      <td>4</td>\n",
       "      <td>8</td>\n",
       "      <td>1.323844</td>\n",
       "      <td>2.370468</td>\n",
       "    </tr>\n",
       "    <tr>\n",
       "      <th>3</th>\n",
       "      <td>2000/01</td>\n",
       "      <td>2000-08-19</td>\n",
       "      <td>Derby</td>\n",
       "      <td>Southampton</td>\n",
       "      <td>2</td>\n",
       "      <td>2</td>\n",
       "      <td>D</td>\n",
       "      <td>1</td>\n",
       "      <td>2</td>\n",
       "      <td>A</td>\n",
       "      <td>...</td>\n",
       "      <td>1</td>\n",
       "      <td>1</td>\n",
       "      <td>0</td>\n",
       "      <td>0</td>\n",
       "      <td>Draw</td>\n",
       "      <td>0</td>\n",
       "      <td>4</td>\n",
       "      <td>8</td>\n",
       "      <td>2.761515</td>\n",
       "      <td>1.497342</td>\n",
       "    </tr>\n",
       "    <tr>\n",
       "      <th>4</th>\n",
       "      <td>2000/01</td>\n",
       "      <td>2000-08-19</td>\n",
       "      <td>Leeds</td>\n",
       "      <td>Everton</td>\n",
       "      <td>2</td>\n",
       "      <td>0</td>\n",
       "      <td>H</td>\n",
       "      <td>2</td>\n",
       "      <td>0</td>\n",
       "      <td>H</td>\n",
       "      <td>...</td>\n",
       "      <td>1</td>\n",
       "      <td>3</td>\n",
       "      <td>0</td>\n",
       "      <td>0</td>\n",
       "      <td>Home Win</td>\n",
       "      <td>2</td>\n",
       "      <td>2</td>\n",
       "      <td>8</td>\n",
       "      <td>1.882923</td>\n",
       "      <td>-0.361584</td>\n",
       "    </tr>\n",
       "    <tr>\n",
       "      <th>5</th>\n",
       "      <td>2000/01</td>\n",
       "      <td>2000-08-19</td>\n",
       "      <td>Leicester</td>\n",
       "      <td>Aston Villa</td>\n",
       "      <td>0</td>\n",
       "      <td>0</td>\n",
       "      <td>D</td>\n",
       "      <td>0</td>\n",
       "      <td>0</td>\n",
       "      <td>D</td>\n",
       "      <td>...</td>\n",
       "      <td>2</td>\n",
       "      <td>3</td>\n",
       "      <td>0</td>\n",
       "      <td>0</td>\n",
       "      <td>Draw</td>\n",
       "      <td>0</td>\n",
       "      <td>0</td>\n",
       "      <td>8</td>\n",
       "      <td>-0.117068</td>\n",
       "      <td>0.183303</td>\n",
       "    </tr>\n",
       "    <tr>\n",
       "      <th>6</th>\n",
       "      <td>2000/01</td>\n",
       "      <td>2000-08-19</td>\n",
       "      <td>Liverpool</td>\n",
       "      <td>Bradford</td>\n",
       "      <td>1</td>\n",
       "      <td>0</td>\n",
       "      <td>H</td>\n",
       "      <td>0</td>\n",
       "      <td>0</td>\n",
       "      <td>D</td>\n",
       "      <td>...</td>\n",
       "      <td>1</td>\n",
       "      <td>1</td>\n",
       "      <td>0</td>\n",
       "      <td>0</td>\n",
       "      <td>Home Win</td>\n",
       "      <td>1</td>\n",
       "      <td>1</td>\n",
       "      <td>8</td>\n",
       "      <td>1.789606</td>\n",
       "      <td>-0.397859</td>\n",
       "    </tr>\n",
       "    <tr>\n",
       "      <th>7</th>\n",
       "      <td>2000/01</td>\n",
       "      <td>2000-08-19</td>\n",
       "      <td>Sunderland</td>\n",
       "      <td>Arsenal</td>\n",
       "      <td>1</td>\n",
       "      <td>0</td>\n",
       "      <td>H</td>\n",
       "      <td>0</td>\n",
       "      <td>0</td>\n",
       "      <td>D</td>\n",
       "      <td>...</td>\n",
       "      <td>3</td>\n",
       "      <td>1</td>\n",
       "      <td>0</td>\n",
       "      <td>1</td>\n",
       "      <td>Home Win</td>\n",
       "      <td>1</td>\n",
       "      <td>1</td>\n",
       "      <td>8</td>\n",
       "      <td>1.383717</td>\n",
       "      <td>0.873245</td>\n",
       "    </tr>\n",
       "    <tr>\n",
       "      <th>8</th>\n",
       "      <td>2000/01</td>\n",
       "      <td>2000-08-19</td>\n",
       "      <td>Tottenham</td>\n",
       "      <td>Ipswich</td>\n",
       "      <td>3</td>\n",
       "      <td>1</td>\n",
       "      <td>H</td>\n",
       "      <td>2</td>\n",
       "      <td>1</td>\n",
       "      <td>H</td>\n",
       "      <td>...</td>\n",
       "      <td>0</td>\n",
       "      <td>0</td>\n",
       "      <td>0</td>\n",
       "      <td>0</td>\n",
       "      <td>Home Win</td>\n",
       "      <td>2</td>\n",
       "      <td>4</td>\n",
       "      <td>8</td>\n",
       "      <td>2.765263</td>\n",
       "      <td>1.513576</td>\n",
       "    </tr>\n",
       "    <tr>\n",
       "      <th>9</th>\n",
       "      <td>2000/01</td>\n",
       "      <td>2000-08-20</td>\n",
       "      <td>Man United</td>\n",
       "      <td>Newcastle</td>\n",
       "      <td>2</td>\n",
       "      <td>0</td>\n",
       "      <td>H</td>\n",
       "      <td>1</td>\n",
       "      <td>0</td>\n",
       "      <td>H</td>\n",
       "      <td>...</td>\n",
       "      <td>0</td>\n",
       "      <td>1</td>\n",
       "      <td>0</td>\n",
       "      <td>0</td>\n",
       "      <td>Home Win</td>\n",
       "      <td>2</td>\n",
       "      <td>2</td>\n",
       "      <td>8</td>\n",
       "      <td>2.271280</td>\n",
       "      <td>0.404180</td>\n",
       "    </tr>\n",
       "    <tr>\n",
       "      <th>10</th>\n",
       "      <td>2000/01</td>\n",
       "      <td>2000-08-21</td>\n",
       "      <td>Arsenal</td>\n",
       "      <td>Liverpool</td>\n",
       "      <td>2</td>\n",
       "      <td>0</td>\n",
       "      <td>H</td>\n",
       "      <td>1</td>\n",
       "      <td>0</td>\n",
       "      <td>H</td>\n",
       "      <td>...</td>\n",
       "      <td>2</td>\n",
       "      <td>4</td>\n",
       "      <td>1</td>\n",
       "      <td>2</td>\n",
       "      <td>Home Win</td>\n",
       "      <td>2</td>\n",
       "      <td>2</td>\n",
       "      <td>8</td>\n",
       "      <td>1.768291</td>\n",
       "      <td>-0.059829</td>\n",
       "    </tr>\n",
       "    <tr>\n",
       "      <th>11</th>\n",
       "      <td>2000/01</td>\n",
       "      <td>2000-08-22</td>\n",
       "      <td>Bradford</td>\n",
       "      <td>Chelsea</td>\n",
       "      <td>2</td>\n",
       "      <td>0</td>\n",
       "      <td>H</td>\n",
       "      <td>1</td>\n",
       "      <td>0</td>\n",
       "      <td>H</td>\n",
       "      <td>...</td>\n",
       "      <td>0</td>\n",
       "      <td>1</td>\n",
       "      <td>0</td>\n",
       "      <td>0</td>\n",
       "      <td>Home Win</td>\n",
       "      <td>2</td>\n",
       "      <td>2</td>\n",
       "      <td>8</td>\n",
       "      <td>1.767135</td>\n",
       "      <td>0.757140</td>\n",
       "    </tr>\n",
       "    <tr>\n",
       "      <th>12</th>\n",
       "      <td>2000/01</td>\n",
       "      <td>2000-08-22</td>\n",
       "      <td>Ipswich</td>\n",
       "      <td>Man United</td>\n",
       "      <td>1</td>\n",
       "      <td>1</td>\n",
       "      <td>D</td>\n",
       "      <td>1</td>\n",
       "      <td>1</td>\n",
       "      <td>D</td>\n",
       "      <td>...</td>\n",
       "      <td>1</td>\n",
       "      <td>4</td>\n",
       "      <td>0</td>\n",
       "      <td>0</td>\n",
       "      <td>Draw</td>\n",
       "      <td>0</td>\n",
       "      <td>2</td>\n",
       "      <td>8</td>\n",
       "      <td>1.120981</td>\n",
       "      <td>0.890997</td>\n",
       "    </tr>\n",
       "    <tr>\n",
       "      <th>13</th>\n",
       "      <td>2000/01</td>\n",
       "      <td>2000-08-22</td>\n",
       "      <td>Middlesbrough</td>\n",
       "      <td>Tottenham</td>\n",
       "      <td>1</td>\n",
       "      <td>1</td>\n",
       "      <td>D</td>\n",
       "      <td>0</td>\n",
       "      <td>1</td>\n",
       "      <td>A</td>\n",
       "      <td>...</td>\n",
       "      <td>2</td>\n",
       "      <td>1</td>\n",
       "      <td>0</td>\n",
       "      <td>0</td>\n",
       "      <td>Draw</td>\n",
       "      <td>0</td>\n",
       "      <td>2</td>\n",
       "      <td>8</td>\n",
       "      <td>0.043360</td>\n",
       "      <td>0.984369</td>\n",
       "    </tr>\n",
       "    <tr>\n",
       "      <th>14</th>\n",
       "      <td>2000/01</td>\n",
       "      <td>2000-08-23</td>\n",
       "      <td>West Ham</td>\n",
       "      <td>Leicester</td>\n",
       "      <td>0</td>\n",
       "      <td>1</td>\n",
       "      <td>A</td>\n",
       "      <td>0</td>\n",
       "      <td>0</td>\n",
       "      <td>D</td>\n",
       "      <td>...</td>\n",
       "      <td>3</td>\n",
       "      <td>3</td>\n",
       "      <td>1</td>\n",
       "      <td>0</td>\n",
       "      <td>Away Win</td>\n",
       "      <td>-1</td>\n",
       "      <td>1</td>\n",
       "      <td>8</td>\n",
       "      <td>-0.862459</td>\n",
       "      <td>1.084987</td>\n",
       "    </tr>\n",
       "    <tr>\n",
       "      <th>15</th>\n",
       "      <td>2000/01</td>\n",
       "      <td>2000-08-23</td>\n",
       "      <td>Newcastle</td>\n",
       "      <td>Derby</td>\n",
       "      <td>3</td>\n",
       "      <td>2</td>\n",
       "      <td>H</td>\n",
       "      <td>1</td>\n",
       "      <td>1</td>\n",
       "      <td>D</td>\n",
       "      <td>...</td>\n",
       "      <td>0</td>\n",
       "      <td>3</td>\n",
       "      <td>1</td>\n",
       "      <td>0</td>\n",
       "      <td>Home Win</td>\n",
       "      <td>1</td>\n",
       "      <td>5</td>\n",
       "      <td>8</td>\n",
       "      <td>2.718856</td>\n",
       "      <td>2.350912</td>\n",
       "    </tr>\n",
       "    <tr>\n",
       "      <th>16</th>\n",
       "      <td>2000/01</td>\n",
       "      <td>2000-08-23</td>\n",
       "      <td>Southampton</td>\n",
       "      <td>Coventry</td>\n",
       "      <td>1</td>\n",
       "      <td>2</td>\n",
       "      <td>A</td>\n",
       "      <td>0</td>\n",
       "      <td>1</td>\n",
       "      <td>A</td>\n",
       "      <td>...</td>\n",
       "      <td>5</td>\n",
       "      <td>3</td>\n",
       "      <td>0</td>\n",
       "      <td>0</td>\n",
       "      <td>Away Win</td>\n",
       "      <td>-1</td>\n",
       "      <td>3</td>\n",
       "      <td>8</td>\n",
       "      <td>0.493584</td>\n",
       "      <td>2.318454</td>\n",
       "    </tr>\n",
       "    <tr>\n",
       "      <th>17</th>\n",
       "      <td>2000/01</td>\n",
       "      <td>2000-08-23</td>\n",
       "      <td>Everton</td>\n",
       "      <td>Charlton</td>\n",
       "      <td>3</td>\n",
       "      <td>0</td>\n",
       "      <td>H</td>\n",
       "      <td>0</td>\n",
       "      <td>0</td>\n",
       "      <td>D</td>\n",
       "      <td>...</td>\n",
       "      <td>2</td>\n",
       "      <td>1</td>\n",
       "      <td>0</td>\n",
       "      <td>1</td>\n",
       "      <td>Home Win</td>\n",
       "      <td>3</td>\n",
       "      <td>3</td>\n",
       "      <td>8</td>\n",
       "      <td>3.157124</td>\n",
       "      <td>-0.237563</td>\n",
       "    </tr>\n",
       "    <tr>\n",
       "      <th>18</th>\n",
       "      <td>2000/01</td>\n",
       "      <td>2000-08-23</td>\n",
       "      <td>Man City</td>\n",
       "      <td>Sunderland</td>\n",
       "      <td>4</td>\n",
       "      <td>2</td>\n",
       "      <td>H</td>\n",
       "      <td>2</td>\n",
       "      <td>0</td>\n",
       "      <td>H</td>\n",
       "      <td>...</td>\n",
       "      <td>3</td>\n",
       "      <td>3</td>\n",
       "      <td>0</td>\n",
       "      <td>0</td>\n",
       "      <td>Home Win</td>\n",
       "      <td>2</td>\n",
       "      <td>6</td>\n",
       "      <td>8</td>\n",
       "      <td>3.545988</td>\n",
       "      <td>1.733503</td>\n",
       "    </tr>\n",
       "    <tr>\n",
       "      <th>19</th>\n",
       "      <td>2000/01</td>\n",
       "      <td>2000-08-26</td>\n",
       "      <td>Southampton</td>\n",
       "      <td>Liverpool</td>\n",
       "      <td>3</td>\n",
       "      <td>3</td>\n",
       "      <td>D</td>\n",
       "      <td>0</td>\n",
       "      <td>1</td>\n",
       "      <td>A</td>\n",
       "      <td>...</td>\n",
       "      <td>0</td>\n",
       "      <td>0</td>\n",
       "      <td>0</td>\n",
       "      <td>0</td>\n",
       "      <td>Draw</td>\n",
       "      <td>0</td>\n",
       "      <td>6</td>\n",
       "      <td>8</td>\n",
       "      <td>2.293848</td>\n",
       "      <td>3.319951</td>\n",
       "    </tr>\n",
       "    <tr>\n",
       "      <th>20</th>\n",
       "      <td>2000/01</td>\n",
       "      <td>2000-08-26</td>\n",
       "      <td>Arsenal</td>\n",
       "      <td>Charlton</td>\n",
       "      <td>5</td>\n",
       "      <td>3</td>\n",
       "      <td>H</td>\n",
       "      <td>1</td>\n",
       "      <td>2</td>\n",
       "      <td>A</td>\n",
       "      <td>...</td>\n",
       "      <td>0</td>\n",
       "      <td>1</td>\n",
       "      <td>0</td>\n",
       "      <td>0</td>\n",
       "      <td>Home Win</td>\n",
       "      <td>2</td>\n",
       "      <td>8</td>\n",
       "      <td>8</td>\n",
       "      <td>5.732824</td>\n",
       "      <td>3.357618</td>\n",
       "    </tr>\n",
       "    <tr>\n",
       "      <th>21</th>\n",
       "      <td>2000/01</td>\n",
       "      <td>2000-08-26</td>\n",
       "      <td>Bradford</td>\n",
       "      <td>Leicester</td>\n",
       "      <td>0</td>\n",
       "      <td>0</td>\n",
       "      <td>D</td>\n",
       "      <td>0</td>\n",
       "      <td>0</td>\n",
       "      <td>D</td>\n",
       "      <td>...</td>\n",
       "      <td>1</td>\n",
       "      <td>2</td>\n",
       "      <td>0</td>\n",
       "      <td>0</td>\n",
       "      <td>Draw</td>\n",
       "      <td>0</td>\n",
       "      <td>0</td>\n",
       "      <td>8</td>\n",
       "      <td>-0.112888</td>\n",
       "      <td>-0.196676</td>\n",
       "    </tr>\n",
       "    <tr>\n",
       "      <th>22</th>\n",
       "      <td>2000/01</td>\n",
       "      <td>2000-08-26</td>\n",
       "      <td>Everton</td>\n",
       "      <td>Derby</td>\n",
       "      <td>2</td>\n",
       "      <td>2</td>\n",
       "      <td>D</td>\n",
       "      <td>2</td>\n",
       "      <td>0</td>\n",
       "      <td>H</td>\n",
       "      <td>...</td>\n",
       "      <td>2</td>\n",
       "      <td>3</td>\n",
       "      <td>0</td>\n",
       "      <td>0</td>\n",
       "      <td>Draw</td>\n",
       "      <td>0</td>\n",
       "      <td>4</td>\n",
       "      <td>8</td>\n",
       "      <td>2.033764</td>\n",
       "      <td>1.206406</td>\n",
       "    </tr>\n",
       "    <tr>\n",
       "      <th>23</th>\n",
       "      <td>2000/01</td>\n",
       "      <td>2000-08-26</td>\n",
       "      <td>Ipswich</td>\n",
       "      <td>Sunderland</td>\n",
       "      <td>1</td>\n",
       "      <td>0</td>\n",
       "      <td>H</td>\n",
       "      <td>0</td>\n",
       "      <td>0</td>\n",
       "      <td>D</td>\n",
       "      <td>...</td>\n",
       "      <td>1</td>\n",
       "      <td>1</td>\n",
       "      <td>0</td>\n",
       "      <td>0</td>\n",
       "      <td>Home Win</td>\n",
       "      <td>1</td>\n",
       "      <td>1</td>\n",
       "      <td>8</td>\n",
       "      <td>0.287626</td>\n",
       "      <td>-0.103658</td>\n",
       "    </tr>\n",
       "    <tr>\n",
       "      <th>24</th>\n",
       "      <td>2000/01</td>\n",
       "      <td>2000-08-26</td>\n",
       "      <td>Man City</td>\n",
       "      <td>Coventry</td>\n",
       "      <td>1</td>\n",
       "      <td>2</td>\n",
       "      <td>A</td>\n",
       "      <td>0</td>\n",
       "      <td>2</td>\n",
       "      <td>A</td>\n",
       "      <td>...</td>\n",
       "      <td>2</td>\n",
       "      <td>3</td>\n",
       "      <td>0</td>\n",
       "      <td>0</td>\n",
       "      <td>Away Win</td>\n",
       "      <td>-1</td>\n",
       "      <td>3</td>\n",
       "      <td>8</td>\n",
       "      <td>0.727809</td>\n",
       "      <td>2.311763</td>\n",
       "    </tr>\n",
       "    <tr>\n",
       "      <th>25</th>\n",
       "      <td>2000/01</td>\n",
       "      <td>2000-08-26</td>\n",
       "      <td>Middlesbrough</td>\n",
       "      <td>Leeds</td>\n",
       "      <td>1</td>\n",
       "      <td>2</td>\n",
       "      <td>A</td>\n",
       "      <td>0</td>\n",
       "      <td>2</td>\n",
       "      <td>A</td>\n",
       "      <td>...</td>\n",
       "      <td>2</td>\n",
       "      <td>0</td>\n",
       "      <td>0</td>\n",
       "      <td>0</td>\n",
       "      <td>Away Win</td>\n",
       "      <td>-1</td>\n",
       "      <td>3</td>\n",
       "      <td>8</td>\n",
       "      <td>1.055461</td>\n",
       "      <td>2.902708</td>\n",
       "    </tr>\n",
       "    <tr>\n",
       "      <th>26</th>\n",
       "      <td>2000/01</td>\n",
       "      <td>2000-08-26</td>\n",
       "      <td>Newcastle</td>\n",
       "      <td>Tottenham</td>\n",
       "      <td>2</td>\n",
       "      <td>0</td>\n",
       "      <td>H</td>\n",
       "      <td>1</td>\n",
       "      <td>0</td>\n",
       "      <td>H</td>\n",
       "      <td>...</td>\n",
       "      <td>0</td>\n",
       "      <td>0</td>\n",
       "      <td>0</td>\n",
       "      <td>0</td>\n",
       "      <td>Home Win</td>\n",
       "      <td>2</td>\n",
       "      <td>2</td>\n",
       "      <td>8</td>\n",
       "      <td>1.424503</td>\n",
       "      <td>-0.598979</td>\n",
       "    </tr>\n",
       "    <tr>\n",
       "      <th>27</th>\n",
       "      <td>2000/01</td>\n",
       "      <td>2000-08-26</td>\n",
       "      <td>West Ham</td>\n",
       "      <td>Man United</td>\n",
       "      <td>2</td>\n",
       "      <td>2</td>\n",
       "      <td>D</td>\n",
       "      <td>0</td>\n",
       "      <td>1</td>\n",
       "      <td>A</td>\n",
       "      <td>...</td>\n",
       "      <td>1</td>\n",
       "      <td>0</td>\n",
       "      <td>0</td>\n",
       "      <td>0</td>\n",
       "      <td>Draw</td>\n",
       "      <td>0</td>\n",
       "      <td>4</td>\n",
       "      <td>8</td>\n",
       "      <td>2.187849</td>\n",
       "      <td>1.786714</td>\n",
       "    </tr>\n",
       "    <tr>\n",
       "      <th>28</th>\n",
       "      <td>2000/01</td>\n",
       "      <td>2000-08-27</td>\n",
       "      <td>Aston Villa</td>\n",
       "      <td>Chelsea</td>\n",
       "      <td>1</td>\n",
       "      <td>1</td>\n",
       "      <td>D</td>\n",
       "      <td>1</td>\n",
       "      <td>1</td>\n",
       "      <td>D</td>\n",
       "      <td>...</td>\n",
       "      <td>0</td>\n",
       "      <td>1</td>\n",
       "      <td>0</td>\n",
       "      <td>0</td>\n",
       "      <td>Draw</td>\n",
       "      <td>0</td>\n",
       "      <td>2</td>\n",
       "      <td>8</td>\n",
       "      <td>0.699681</td>\n",
       "      <td>0.805298</td>\n",
       "    </tr>\n",
       "    <tr>\n",
       "      <th>29</th>\n",
       "      <td>2000/01</td>\n",
       "      <td>2000-09-05</td>\n",
       "      <td>Leeds</td>\n",
       "      <td>Man City</td>\n",
       "      <td>1</td>\n",
       "      <td>2</td>\n",
       "      <td>A</td>\n",
       "      <td>0</td>\n",
       "      <td>2</td>\n",
       "      <td>A</td>\n",
       "      <td>...</td>\n",
       "      <td>2</td>\n",
       "      <td>2</td>\n",
       "      <td>0</td>\n",
       "      <td>0</td>\n",
       "      <td>Away Win</td>\n",
       "      <td>-1</td>\n",
       "      <td>3</td>\n",
       "      <td>9</td>\n",
       "      <td>0.854153</td>\n",
       "      <td>2.677903</td>\n",
       "    </tr>\n",
       "    <tr>\n",
       "      <th>30</th>\n",
       "      <td>2000/01</td>\n",
       "      <td>2000-09-05</td>\n",
       "      <td>Man United</td>\n",
       "      <td>Bradford</td>\n",
       "      <td>6</td>\n",
       "      <td>0</td>\n",
       "      <td>H</td>\n",
       "      <td>2</td>\n",
       "      <td>0</td>\n",
       "      <td>H</td>\n",
       "      <td>...</td>\n",
       "      <td>0</td>\n",
       "      <td>1</td>\n",
       "      <td>0</td>\n",
       "      <td>0</td>\n",
       "      <td>Home Win</td>\n",
       "      <td>6</td>\n",
       "      <td>6</td>\n",
       "      <td>9</td>\n",
       "      <td>5.699147</td>\n",
       "      <td>-0.017471</td>\n",
       "    </tr>\n",
       "    <tr>\n",
       "      <th>31</th>\n",
       "      <td>2000/01</td>\n",
       "      <td>2000-09-05</td>\n",
       "      <td>Sunderland</td>\n",
       "      <td>West Ham</td>\n",
       "      <td>1</td>\n",
       "      <td>1</td>\n",
       "      <td>D</td>\n",
       "      <td>1</td>\n",
       "      <td>1</td>\n",
       "      <td>D</td>\n",
       "      <td>...</td>\n",
       "      <td>2</td>\n",
       "      <td>3</td>\n",
       "      <td>0</td>\n",
       "      <td>0</td>\n",
       "      <td>Draw</td>\n",
       "      <td>0</td>\n",
       "      <td>2</td>\n",
       "      <td>9</td>\n",
       "      <td>1.926139</td>\n",
       "      <td>0.546337</td>\n",
       "    </tr>\n",
       "    <tr>\n",
       "      <th>32</th>\n",
       "      <td>2000/01</td>\n",
       "      <td>2000-09-05</td>\n",
       "      <td>Tottenham</td>\n",
       "      <td>Everton</td>\n",
       "      <td>3</td>\n",
       "      <td>2</td>\n",
       "      <td>H</td>\n",
       "      <td>1</td>\n",
       "      <td>2</td>\n",
       "      <td>A</td>\n",
       "      <td>...</td>\n",
       "      <td>1</td>\n",
       "      <td>2</td>\n",
       "      <td>0</td>\n",
       "      <td>0</td>\n",
       "      <td>Home Win</td>\n",
       "      <td>1</td>\n",
       "      <td>5</td>\n",
       "      <td>9</td>\n",
       "      <td>2.993251</td>\n",
       "      <td>2.279348</td>\n",
       "    </tr>\n",
       "    <tr>\n",
       "      <th>33</th>\n",
       "      <td>2000/01</td>\n",
       "      <td>2000-09-06</td>\n",
       "      <td>Leicester</td>\n",
       "      <td>Ipswich</td>\n",
       "      <td>2</td>\n",
       "      <td>1</td>\n",
       "      <td>H</td>\n",
       "      <td>0</td>\n",
       "      <td>0</td>\n",
       "      <td>D</td>\n",
       "      <td>...</td>\n",
       "      <td>1</td>\n",
       "      <td>1</td>\n",
       "      <td>0</td>\n",
       "      <td>0</td>\n",
       "      <td>Home Win</td>\n",
       "      <td>1</td>\n",
       "      <td>3</td>\n",
       "      <td>9</td>\n",
       "      <td>1.471145</td>\n",
       "      <td>0.797681</td>\n",
       "    </tr>\n",
       "    <tr>\n",
       "      <th>34</th>\n",
       "      <td>2000/01</td>\n",
       "      <td>2000-09-06</td>\n",
       "      <td>Liverpool</td>\n",
       "      <td>Aston Villa</td>\n",
       "      <td>3</td>\n",
       "      <td>1</td>\n",
       "      <td>H</td>\n",
       "      <td>3</td>\n",
       "      <td>0</td>\n",
       "      <td>H</td>\n",
       "      <td>...</td>\n",
       "      <td>0</td>\n",
       "      <td>2</td>\n",
       "      <td>0</td>\n",
       "      <td>0</td>\n",
       "      <td>Home Win</td>\n",
       "      <td>2</td>\n",
       "      <td>4</td>\n",
       "      <td>9</td>\n",
       "      <td>3.411272</td>\n",
       "      <td>0.387806</td>\n",
       "    </tr>\n",
       "    <tr>\n",
       "      <th>35</th>\n",
       "      <td>2000/01</td>\n",
       "      <td>2000-09-06</td>\n",
       "      <td>Derby</td>\n",
       "      <td>Middlesbrough</td>\n",
       "      <td>3</td>\n",
       "      <td>3</td>\n",
       "      <td>D</td>\n",
       "      <td>0</td>\n",
       "      <td>1</td>\n",
       "      <td>A</td>\n",
       "      <td>...</td>\n",
       "      <td>3</td>\n",
       "      <td>2</td>\n",
       "      <td>0</td>\n",
       "      <td>0</td>\n",
       "      <td>Draw</td>\n",
       "      <td>0</td>\n",
       "      <td>6</td>\n",
       "      <td>9</td>\n",
       "      <td>2.389578</td>\n",
       "      <td>2.553613</td>\n",
       "    </tr>\n",
       "    <tr>\n",
       "      <th>36</th>\n",
       "      <td>2000/01</td>\n",
       "      <td>2000-09-06</td>\n",
       "      <td>Coventry</td>\n",
       "      <td>Newcastle</td>\n",
       "      <td>0</td>\n",
       "      <td>2</td>\n",
       "      <td>A</td>\n",
       "      <td>0</td>\n",
       "      <td>1</td>\n",
       "      <td>A</td>\n",
       "      <td>...</td>\n",
       "      <td>1</td>\n",
       "      <td>1</td>\n",
       "      <td>0</td>\n",
       "      <td>0</td>\n",
       "      <td>Away Win</td>\n",
       "      <td>-2</td>\n",
       "      <td>2</td>\n",
       "      <td>9</td>\n",
       "      <td>0.104432</td>\n",
       "      <td>2.867021</td>\n",
       "    </tr>\n",
       "    <tr>\n",
       "      <th>37</th>\n",
       "      <td>2000/01</td>\n",
       "      <td>2000-09-06</td>\n",
       "      <td>Chelsea</td>\n",
       "      <td>Arsenal</td>\n",
       "      <td>2</td>\n",
       "      <td>2</td>\n",
       "      <td>D</td>\n",
       "      <td>1</td>\n",
       "      <td>0</td>\n",
       "      <td>H</td>\n",
       "      <td>...</td>\n",
       "      <td>3</td>\n",
       "      <td>1</td>\n",
       "      <td>0</td>\n",
       "      <td>0</td>\n",
       "      <td>Draw</td>\n",
       "      <td>0</td>\n",
       "      <td>4</td>\n",
       "      <td>9</td>\n",
       "      <td>1.020165</td>\n",
       "      <td>2.192105</td>\n",
       "    </tr>\n",
       "    <tr>\n",
       "      <th>38</th>\n",
       "      <td>2000/01</td>\n",
       "      <td>2000-09-06</td>\n",
       "      <td>Charlton</td>\n",
       "      <td>Southampton</td>\n",
       "      <td>1</td>\n",
       "      <td>1</td>\n",
       "      <td>D</td>\n",
       "      <td>0</td>\n",
       "      <td>0</td>\n",
       "      <td>D</td>\n",
       "      <td>...</td>\n",
       "      <td>3</td>\n",
       "      <td>3</td>\n",
       "      <td>1</td>\n",
       "      <td>0</td>\n",
       "      <td>Draw</td>\n",
       "      <td>0</td>\n",
       "      <td>2</td>\n",
       "      <td>9</td>\n",
       "      <td>0.335907</td>\n",
       "      <td>1.053880</td>\n",
       "    </tr>\n",
       "    <tr>\n",
       "      <th>39</th>\n",
       "      <td>2000/01</td>\n",
       "      <td>2000-09-09</td>\n",
       "      <td>Bradford</td>\n",
       "      <td>Arsenal</td>\n",
       "      <td>1</td>\n",
       "      <td>1</td>\n",
       "      <td>D</td>\n",
       "      <td>1</td>\n",
       "      <td>0</td>\n",
       "      <td>H</td>\n",
       "      <td>...</td>\n",
       "      <td>0</td>\n",
       "      <td>2</td>\n",
       "      <td>0</td>\n",
       "      <td>0</td>\n",
       "      <td>Draw</td>\n",
       "      <td>0</td>\n",
       "      <td>2</td>\n",
       "      <td>9</td>\n",
       "      <td>1.098431</td>\n",
       "      <td>0.875053</td>\n",
       "    </tr>\n",
       "    <tr>\n",
       "      <th>40</th>\n",
       "      <td>2000/01</td>\n",
       "      <td>2000-09-09</td>\n",
       "      <td>Coventry</td>\n",
       "      <td>Leeds</td>\n",
       "      <td>0</td>\n",
       "      <td>0</td>\n",
       "      <td>D</td>\n",
       "      <td>0</td>\n",
       "      <td>0</td>\n",
       "      <td>D</td>\n",
       "      <td>...</td>\n",
       "      <td>2</td>\n",
       "      <td>2</td>\n",
       "      <td>0</td>\n",
       "      <td>0</td>\n",
       "      <td>Draw</td>\n",
       "      <td>0</td>\n",
       "      <td>0</td>\n",
       "      <td>9</td>\n",
       "      <td>0.369233</td>\n",
       "      <td>0.146074</td>\n",
       "    </tr>\n",
       "    <tr>\n",
       "      <th>41</th>\n",
       "      <td>2000/01</td>\n",
       "      <td>2000-09-09</td>\n",
       "      <td>Ipswich</td>\n",
       "      <td>Aston Villa</td>\n",
       "      <td>1</td>\n",
       "      <td>2</td>\n",
       "      <td>A</td>\n",
       "      <td>0</td>\n",
       "      <td>1</td>\n",
       "      <td>A</td>\n",
       "      <td>...</td>\n",
       "      <td>1</td>\n",
       "      <td>3</td>\n",
       "      <td>0</td>\n",
       "      <td>0</td>\n",
       "      <td>Away Win</td>\n",
       "      <td>-1</td>\n",
       "      <td>3</td>\n",
       "      <td>9</td>\n",
       "      <td>1.085684</td>\n",
       "      <td>2.140118</td>\n",
       "    </tr>\n",
       "    <tr>\n",
       "      <th>42</th>\n",
       "      <td>2000/01</td>\n",
       "      <td>2000-09-09</td>\n",
       "      <td>Leicester</td>\n",
       "      <td>Southampton</td>\n",
       "      <td>1</td>\n",
       "      <td>0</td>\n",
       "      <td>H</td>\n",
       "      <td>0</td>\n",
       "      <td>0</td>\n",
       "      <td>D</td>\n",
       "      <td>...</td>\n",
       "      <td>0</td>\n",
       "      <td>0</td>\n",
       "      <td>0</td>\n",
       "      <td>0</td>\n",
       "      <td>Home Win</td>\n",
       "      <td>1</td>\n",
       "      <td>1</td>\n",
       "      <td>9</td>\n",
       "      <td>0.942176</td>\n",
       "      <td>0.146084</td>\n",
       "    </tr>\n",
       "    <tr>\n",
       "      <th>43</th>\n",
       "      <td>2000/01</td>\n",
       "      <td>2000-09-09</td>\n",
       "      <td>Liverpool</td>\n",
       "      <td>Man City</td>\n",
       "      <td>3</td>\n",
       "      <td>2</td>\n",
       "      <td>H</td>\n",
       "      <td>1</td>\n",
       "      <td>0</td>\n",
       "      <td>H</td>\n",
       "      <td>...</td>\n",
       "      <td>3</td>\n",
       "      <td>4</td>\n",
       "      <td>0</td>\n",
       "      <td>0</td>\n",
       "      <td>Home Win</td>\n",
       "      <td>1</td>\n",
       "      <td>5</td>\n",
       "      <td>9</td>\n",
       "      <td>2.849448</td>\n",
       "      <td>2.057423</td>\n",
       "    </tr>\n",
       "    <tr>\n",
       "      <th>44</th>\n",
       "      <td>2000/01</td>\n",
       "      <td>2000-09-09</td>\n",
       "      <td>Man United</td>\n",
       "      <td>Sunderland</td>\n",
       "      <td>3</td>\n",
       "      <td>0</td>\n",
       "      <td>H</td>\n",
       "      <td>1</td>\n",
       "      <td>0</td>\n",
       "      <td>H</td>\n",
       "      <td>...</td>\n",
       "      <td>1</td>\n",
       "      <td>3</td>\n",
       "      <td>0</td>\n",
       "      <td>0</td>\n",
       "      <td>Home Win</td>\n",
       "      <td>3</td>\n",
       "      <td>3</td>\n",
       "      <td>9</td>\n",
       "      <td>2.260739</td>\n",
       "      <td>0.434399</td>\n",
       "    </tr>\n",
       "    <tr>\n",
       "      <th>45</th>\n",
       "      <td>2000/01</td>\n",
       "      <td>2000-09-09</td>\n",
       "      <td>Middlesbrough</td>\n",
       "      <td>Everton</td>\n",
       "      <td>1</td>\n",
       "      <td>2</td>\n",
       "      <td>A</td>\n",
       "      <td>1</td>\n",
       "      <td>0</td>\n",
       "      <td>H</td>\n",
       "      <td>...</td>\n",
       "      <td>3</td>\n",
       "      <td>0</td>\n",
       "      <td>0</td>\n",
       "      <td>0</td>\n",
       "      <td>Away Win</td>\n",
       "      <td>-1</td>\n",
       "      <td>3</td>\n",
       "      <td>9</td>\n",
       "      <td>0.640078</td>\n",
       "      <td>2.011552</td>\n",
       "    </tr>\n",
       "    <tr>\n",
       "      <th>46</th>\n",
       "      <td>2000/01</td>\n",
       "      <td>2000-09-09</td>\n",
       "      <td>Newcastle</td>\n",
       "      <td>Chelsea</td>\n",
       "      <td>0</td>\n",
       "      <td>0</td>\n",
       "      <td>D</td>\n",
       "      <td>0</td>\n",
       "      <td>0</td>\n",
       "      <td>D</td>\n",
       "      <td>...</td>\n",
       "      <td>0</td>\n",
       "      <td>3</td>\n",
       "      <td>0</td>\n",
       "      <td>0</td>\n",
       "      <td>Draw</td>\n",
       "      <td>0</td>\n",
       "      <td>0</td>\n",
       "      <td>9</td>\n",
       "      <td>-0.230319</td>\n",
       "      <td>-0.488969</td>\n",
       "    </tr>\n",
       "    <tr>\n",
       "      <th>47</th>\n",
       "      <td>2000/01</td>\n",
       "      <td>2000-09-10</td>\n",
       "      <td>Derby</td>\n",
       "      <td>Charlton</td>\n",
       "      <td>2</td>\n",
       "      <td>2</td>\n",
       "      <td>D</td>\n",
       "      <td>2</td>\n",
       "      <td>0</td>\n",
       "      <td>H</td>\n",
       "      <td>...</td>\n",
       "      <td>3</td>\n",
       "      <td>1</td>\n",
       "      <td>0</td>\n",
       "      <td>0</td>\n",
       "      <td>Draw</td>\n",
       "      <td>0</td>\n",
       "      <td>4</td>\n",
       "      <td>9</td>\n",
       "      <td>2.528561</td>\n",
       "      <td>1.693789</td>\n",
       "    </tr>\n",
       "    <tr>\n",
       "      <th>48</th>\n",
       "      <td>2000/01</td>\n",
       "      <td>2000-09-11</td>\n",
       "      <td>Tottenham</td>\n",
       "      <td>West Ham</td>\n",
       "      <td>1</td>\n",
       "      <td>0</td>\n",
       "      <td>H</td>\n",
       "      <td>0</td>\n",
       "      <td>0</td>\n",
       "      <td>D</td>\n",
       "      <td>...</td>\n",
       "      <td>1</td>\n",
       "      <td>2</td>\n",
       "      <td>0</td>\n",
       "      <td>0</td>\n",
       "      <td>Home Win</td>\n",
       "      <td>1</td>\n",
       "      <td>1</td>\n",
       "      <td>9</td>\n",
       "      <td>1.171809</td>\n",
       "      <td>-0.989509</td>\n",
       "    </tr>\n",
       "    <tr>\n",
       "      <th>49</th>\n",
       "      <td>2000/01</td>\n",
       "      <td>2000-09-16</td>\n",
       "      <td>Sunderland</td>\n",
       "      <td>Derby</td>\n",
       "      <td>2</td>\n",
       "      <td>1</td>\n",
       "      <td>H</td>\n",
       "      <td>1</td>\n",
       "      <td>0</td>\n",
       "      <td>H</td>\n",
       "      <td>...</td>\n",
       "      <td>2</td>\n",
       "      <td>3</td>\n",
       "      <td>0</td>\n",
       "      <td>0</td>\n",
       "      <td>Home Win</td>\n",
       "      <td>1</td>\n",
       "      <td>3</td>\n",
       "      <td>9</td>\n",
       "      <td>1.118480</td>\n",
       "      <td>2.013409</td>\n",
       "    </tr>\n",
       "  </tbody>\n",
       "</table>\n",
       "<p>50 rows × 28 columns</p>\n",
       "</div>"
      ],
      "text/plain": [
       "     Season  MatchDate       HomeTeam       AwayTeam  FullTimeHomeGoals  \\\n",
       "0   2000/01 2000-08-19       Charlton       Man City                  4   \n",
       "1   2000/01 2000-08-19        Chelsea       West Ham                  4   \n",
       "2   2000/01 2000-08-19       Coventry  Middlesbrough                  1   \n",
       "3   2000/01 2000-08-19          Derby    Southampton                  2   \n",
       "4   2000/01 2000-08-19          Leeds        Everton                  2   \n",
       "5   2000/01 2000-08-19      Leicester    Aston Villa                  0   \n",
       "6   2000/01 2000-08-19      Liverpool       Bradford                  1   \n",
       "7   2000/01 2000-08-19     Sunderland        Arsenal                  1   \n",
       "8   2000/01 2000-08-19      Tottenham        Ipswich                  3   \n",
       "9   2000/01 2000-08-20     Man United      Newcastle                  2   \n",
       "10  2000/01 2000-08-21        Arsenal      Liverpool                  2   \n",
       "11  2000/01 2000-08-22       Bradford        Chelsea                  2   \n",
       "12  2000/01 2000-08-22        Ipswich     Man United                  1   \n",
       "13  2000/01 2000-08-22  Middlesbrough      Tottenham                  1   \n",
       "14  2000/01 2000-08-23       West Ham      Leicester                  0   \n",
       "15  2000/01 2000-08-23      Newcastle          Derby                  3   \n",
       "16  2000/01 2000-08-23    Southampton       Coventry                  1   \n",
       "17  2000/01 2000-08-23        Everton       Charlton                  3   \n",
       "18  2000/01 2000-08-23       Man City     Sunderland                  4   \n",
       "19  2000/01 2000-08-26    Southampton      Liverpool                  3   \n",
       "20  2000/01 2000-08-26        Arsenal       Charlton                  5   \n",
       "21  2000/01 2000-08-26       Bradford      Leicester                  0   \n",
       "22  2000/01 2000-08-26        Everton          Derby                  2   \n",
       "23  2000/01 2000-08-26        Ipswich     Sunderland                  1   \n",
       "24  2000/01 2000-08-26       Man City       Coventry                  1   \n",
       "25  2000/01 2000-08-26  Middlesbrough          Leeds                  1   \n",
       "26  2000/01 2000-08-26      Newcastle      Tottenham                  2   \n",
       "27  2000/01 2000-08-26       West Ham     Man United                  2   \n",
       "28  2000/01 2000-08-27    Aston Villa        Chelsea                  1   \n",
       "29  2000/01 2000-09-05          Leeds       Man City                  1   \n",
       "30  2000/01 2000-09-05     Man United       Bradford                  6   \n",
       "31  2000/01 2000-09-05     Sunderland       West Ham                  1   \n",
       "32  2000/01 2000-09-05      Tottenham        Everton                  3   \n",
       "33  2000/01 2000-09-06      Leicester        Ipswich                  2   \n",
       "34  2000/01 2000-09-06      Liverpool    Aston Villa                  3   \n",
       "35  2000/01 2000-09-06          Derby  Middlesbrough                  3   \n",
       "36  2000/01 2000-09-06       Coventry      Newcastle                  0   \n",
       "37  2000/01 2000-09-06        Chelsea        Arsenal                  2   \n",
       "38  2000/01 2000-09-06       Charlton    Southampton                  1   \n",
       "39  2000/01 2000-09-09       Bradford        Arsenal                  1   \n",
       "40  2000/01 2000-09-09       Coventry          Leeds                  0   \n",
       "41  2000/01 2000-09-09        Ipswich    Aston Villa                  1   \n",
       "42  2000/01 2000-09-09      Leicester    Southampton                  1   \n",
       "43  2000/01 2000-09-09      Liverpool       Man City                  3   \n",
       "44  2000/01 2000-09-09     Man United     Sunderland                  3   \n",
       "45  2000/01 2000-09-09  Middlesbrough        Everton                  1   \n",
       "46  2000/01 2000-09-09      Newcastle        Chelsea                  0   \n",
       "47  2000/01 2000-09-10          Derby       Charlton                  2   \n",
       "48  2000/01 2000-09-11      Tottenham       West Ham                  1   \n",
       "49  2000/01 2000-09-16     Sunderland          Derby                  2   \n",
       "\n",
       "    FullTimeAwayGoals FullTimeResult  HalfTimeHomeGoals  HalfTimeAwayGoals  \\\n",
       "0                   0              H                  2                  0   \n",
       "1                   2              H                  1                  0   \n",
       "2                   3              A                  1                  1   \n",
       "3                   2              D                  1                  2   \n",
       "4                   0              H                  2                  0   \n",
       "5                   0              D                  0                  0   \n",
       "6                   0              H                  0                  0   \n",
       "7                   0              H                  0                  0   \n",
       "8                   1              H                  2                  1   \n",
       "9                   0              H                  1                  0   \n",
       "10                  0              H                  1                  0   \n",
       "11                  0              H                  1                  0   \n",
       "12                  1              D                  1                  1   \n",
       "13                  1              D                  0                  1   \n",
       "14                  1              A                  0                  0   \n",
       "15                  2              H                  1                  1   \n",
       "16                  2              A                  0                  1   \n",
       "17                  0              H                  0                  0   \n",
       "18                  2              H                  2                  0   \n",
       "19                  3              D                  0                  1   \n",
       "20                  3              H                  1                  2   \n",
       "21                  0              D                  0                  0   \n",
       "22                  2              D                  2                  0   \n",
       "23                  0              H                  0                  0   \n",
       "24                  2              A                  0                  2   \n",
       "25                  2              A                  0                  2   \n",
       "26                  0              H                  1                  0   \n",
       "27                  2              D                  0                  1   \n",
       "28                  1              D                  1                  1   \n",
       "29                  2              A                  0                  2   \n",
       "30                  0              H                  2                  0   \n",
       "31                  1              D                  1                  1   \n",
       "32                  2              H                  1                  2   \n",
       "33                  1              H                  0                  0   \n",
       "34                  1              H                  3                  0   \n",
       "35                  3              D                  0                  1   \n",
       "36                  2              A                  0                  1   \n",
       "37                  2              D                  1                  0   \n",
       "38                  1              D                  0                  0   \n",
       "39                  1              D                  1                  0   \n",
       "40                  0              D                  0                  0   \n",
       "41                  2              A                  0                  1   \n",
       "42                  0              H                  0                  0   \n",
       "43                  2              H                  1                  0   \n",
       "44                  0              H                  1                  0   \n",
       "45                  2              A                  1                  0   \n",
       "46                  0              D                  0                  0   \n",
       "47                  2              D                  2                  0   \n",
       "48                  0              H                  0                  0   \n",
       "49                  1              H                  1                  0   \n",
       "\n",
       "   HalfTimeResult  ...  HomeYellowCards  AwayYellowCards  HomeRedCards  \\\n",
       "0               H  ...                1                2             0   \n",
       "1               H  ...                1                2             0   \n",
       "2               D  ...                5                3             1   \n",
       "3               A  ...                1                1             0   \n",
       "4               H  ...                1                3             0   \n",
       "5               D  ...                2                3             0   \n",
       "6               D  ...                1                1             0   \n",
       "7               D  ...                3                1             0   \n",
       "8               H  ...                0                0             0   \n",
       "9               H  ...                0                1             0   \n",
       "10              H  ...                2                4             1   \n",
       "11              H  ...                0                1             0   \n",
       "12              D  ...                1                4             0   \n",
       "13              A  ...                2                1             0   \n",
       "14              D  ...                3                3             1   \n",
       "15              D  ...                0                3             1   \n",
       "16              A  ...                5                3             0   \n",
       "17              D  ...                2                1             0   \n",
       "18              H  ...                3                3             0   \n",
       "19              A  ...                0                0             0   \n",
       "20              A  ...                0                1             0   \n",
       "21              D  ...                1                2             0   \n",
       "22              H  ...                2                3             0   \n",
       "23              D  ...                1                1             0   \n",
       "24              A  ...                2                3             0   \n",
       "25              A  ...                2                0             0   \n",
       "26              H  ...                0                0             0   \n",
       "27              A  ...                1                0             0   \n",
       "28              D  ...                0                1             0   \n",
       "29              A  ...                2                2             0   \n",
       "30              H  ...                0                1             0   \n",
       "31              D  ...                2                3             0   \n",
       "32              A  ...                1                2             0   \n",
       "33              D  ...                1                1             0   \n",
       "34              H  ...                0                2             0   \n",
       "35              A  ...                3                2             0   \n",
       "36              A  ...                1                1             0   \n",
       "37              H  ...                3                1             0   \n",
       "38              D  ...                3                3             1   \n",
       "39              H  ...                0                2             0   \n",
       "40              D  ...                2                2             0   \n",
       "41              A  ...                1                3             0   \n",
       "42              D  ...                0                0             0   \n",
       "43              H  ...                3                4             0   \n",
       "44              H  ...                1                3             0   \n",
       "45              H  ...                3                0             0   \n",
       "46              D  ...                0                3             0   \n",
       "47              H  ...                3                1             0   \n",
       "48              D  ...                1                2             0   \n",
       "49              H  ...                2                3             0   \n",
       "\n",
       "    AwayRedCards    Result  Goal_Diff  Total_Goals  Month   Home_xG   Away_xG  \n",
       "0              0  Home Win          4            4      8  4.248357 -0.001119  \n",
       "1              0  Home Win          2            6      8  3.930868  1.466283  \n",
       "2              0  Away Win         -2            4      8  1.323844  2.370468  \n",
       "3              0      Draw          0            4      8  2.761515  1.497342  \n",
       "4              0  Home Win          2            2      8  1.882923 -0.361584  \n",
       "5              0      Draw          0            0      8 -0.117068  0.183303  \n",
       "6              0  Home Win          1            1      8  1.789606 -0.397859  \n",
       "7              1  Home Win          1            1      8  1.383717  0.873245  \n",
       "8              0  Home Win          2            4      8  2.765263  1.513576  \n",
       "9              0  Home Win          2            2      8  2.271280  0.404180  \n",
       "10             2  Home Win          2            2      8  1.768291 -0.059829  \n",
       "11             0  Home Win          2            2      8  1.767135  0.757140  \n",
       "12             0      Draw          0            2      8  1.120981  0.890997  \n",
       "13             0      Draw          0            2      8  0.043360  0.984369  \n",
       "14             0  Away Win         -1            1      8 -0.862459  1.084987  \n",
       "15             0  Home Win          1            5      8  2.718856  2.350912  \n",
       "16             0  Away Win         -1            3      8  0.493584  2.318454  \n",
       "17             1  Home Win          3            3      8  3.157124 -0.237563  \n",
       "18             0  Home Win          2            6      8  3.545988  1.733503  \n",
       "19             0      Draw          0            6      8  2.293848  3.319951  \n",
       "20             0  Home Win          2            8      8  5.732824  3.357618  \n",
       "21             0      Draw          0            0      8 -0.112888 -0.196676  \n",
       "22             0      Draw          0            4      8  2.033764  1.206406  \n",
       "23             0  Home Win          1            1      8  0.287626 -0.103658  \n",
       "24             0  Away Win         -1            3      8  0.727809  2.311763  \n",
       "25             0  Away Win         -1            3      8  1.055461  2.902708  \n",
       "26             0  Home Win          2            2      8  1.424503 -0.598979  \n",
       "27             0      Draw          0            4      8  2.187849  1.786714  \n",
       "28             0      Draw          0            2      8  0.699681  0.805298  \n",
       "29             0  Away Win         -1            3      9  0.854153  2.677903  \n",
       "30             0  Home Win          6            6      9  5.699147 -0.017471  \n",
       "31             0      Draw          0            2      9  1.926139  0.546337  \n",
       "32             0  Home Win          1            5      9  2.993251  2.279348  \n",
       "33             0  Home Win          1            3      9  1.471145  0.797681  \n",
       "34             0  Home Win          2            4      9  3.411272  0.387806  \n",
       "35             0      Draw          0            6      9  2.389578  2.553613  \n",
       "36             0  Away Win         -2            2      9  0.104432  2.867021  \n",
       "37             0      Draw          0            4      9  1.020165  2.192105  \n",
       "38             0      Draw          0            2      9  0.335907  1.053880  \n",
       "39             0      Draw          0            2      9  1.098431  0.875053  \n",
       "40             0      Draw          0            0      9  0.369233  0.146074  \n",
       "41             0  Away Win         -1            3      9  1.085684  2.140118  \n",
       "42             0  Home Win          1            1      9  0.942176  0.146084  \n",
       "43             0  Home Win          1            5      9  2.849448  2.057423  \n",
       "44             0  Home Win          3            3      9  2.260739  0.434399  \n",
       "45             0  Away Win         -1            3      9  0.640078  2.011552  \n",
       "46             0      Draw          0            0      9 -0.230319 -0.488969  \n",
       "47             0      Draw          0            4      9  2.528561  1.693789  \n",
       "48             0  Home Win          1            1      9  1.171809 -0.989509  \n",
       "49             0  Home Win          1            3      9  1.118480  2.013409  \n",
       "\n",
       "[50 rows x 28 columns]"
      ]
     },
     "execution_count": 23,
     "metadata": {},
     "output_type": "execute_result"
    }
   ],
   "source": [
    "df.head(50)  # Display the first 50 rows of the DataFrame again to confirm changes"
   ]
  },
  {
   "cell_type": "markdown",
   "id": "dd478062",
   "metadata": {},
   "source": [
    "**Insights: New DataFrame columns**\n",
    "- Here we see the new added columns which will help with the analysis for expected goals.\n",
    "- Month\n",
    "- Home xG\n",
    "- Away xG"
   ]
  },
  {
   "cell_type": "markdown",
   "id": "e295ed65",
   "metadata": {},
   "source": [
    "---"
   ]
  },
  {
   "cell_type": "markdown",
   "id": "4e5aac1d",
   "metadata": {},
   "source": [
    "# Section 13: Total goals by match results\n",
    "- A simple boxplot to show how total goals vary across match outcomes (home win, away win, draw)."
   ]
  },
  {
   "cell_type": "code",
   "execution_count": 20,
   "id": "6f43c80b",
   "metadata": {},
   "outputs": [
    {
     "data": {
      "image/png": "[encoded data removed]",
      "text/plain": [
       "<Figure size 800x400 with 1 Axes>"
      ]
     },
     "metadata": {},
     "output_type": "display_data"
    }
   ],
   "source": [
    "# Boxplot: Goals by Match Result\n",
    "plt.figure(figsize=(8, 4))\n",
    "sns.boxplot(x='FullTimeResult', y='Total_Goals', data=df)\n",
    "plt.title('Goals by Match Result')\n",
    "plt.show()"
   ]
  },
  {
   "cell_type": "markdown",
   "id": "f1e23f6a",
   "metadata": {},
   "source": [
    "**Insights: Goals by Result**\n",
    "- If draws have a tight distribution around low values, it tells you that draws are often low-scoring. \n",
    "- Home and away wins usually show higher median total goals."
   ]
  },
  {
   "cell_type": "markdown",
   "id": "2db4779d",
   "metadata": {},
   "source": [
    "---"
   ]
  },
  {
   "cell_type": "markdown",
   "id": "79955cb8",
   "metadata": {},
   "source": [
    "# Section 14: Clustering by Average goals\n",
    "We create a simple clustering of teams using average home goals and average away goals to highlight different scoring profiles. This is a toy example intended to inspire richer feature engineering (xG, possession, shots, etc.)."
   ]
  },
  {
   "cell_type": "code",
   "execution_count": 21,
   "id": "393ef4eb",
   "metadata": {},
   "outputs": [
    {
     "data": {
      "application/vnd.plotly.v1+json": {
       "config": {
        "plotlyServerURL": "https://plot.ly"
       },
       "data": [
        {
         "hovertemplate": "Avg Home Goals=%{x}<br>Avg Away Goals=%{y}<br>HomeTeam=%{text}<br>Cluster=%{marker.color}<extra></extra>",
         "legendgroup": "",
         "marker": {
          "color": {
           "bdata": "AgAAAAAAAAAAAAAAAAAAAAEAAAAAAAAAAAAAAAEAAAAAAAAAAAAAAAAAAAABAAAAAAAAAAIAAAAAAAAAAAAAAAEAAAAAAAAAAAAAAAEAAAABAAAAAAAAAAAAAAAAAAAAAgAAAAEAAAACAAAAAgAAAAAAAAAAAAAAAQAAAAAAAAAAAAAAAAAAAAAAAAABAAAAAAAAAAAAAAAAAAAAAAAAAAIAAAABAAAAAAAAAAAAAAAAAAAAAAAAAA==",
           "dtype": "i4"
          },
          "coloraxis": "coloraxis",
          "symbol": "circle"
         },
         "mode": "markers+text",
         "name": "",
         "orientation": "v",
         "showlegend": false,
         "text": [
          "Arsenal",
          "Aston Villa",
          "Birmingham",
          "Blackburn",
          "Blackpool",
          "Bolton",
          "Bournemouth",
          "Bradford",
          "Brentford",
          "Brighton",
          "Burnley",
          "Cardiff",
          "Charlton",
          "Chelsea",
          "Coventry",
          "Crystal Palace",
          "Derby",
          "Everton",
          "Fulham",
          "Huddersfield",
          "Hull",
          "Ipswich",
          "Leeds",
          "Leicester",
          "Liverpool",
          "Luton",
          "Man City",
          "Man United",
          "Middlesbrough",
          "Newcastle",
          "Norwich",
          "Nott'm Forest",
          "Portsmouth",
          "QPR",
          "Reading",
          "Sheffield United",
          "Southampton",
          "Stoke",
          "Sunderland",
          "Swansea",
          "Tottenham",
          "Watford",
          "West Brom",
          "West Ham",
          "Wigan",
          "Wolves"
         ],
         "type": "scatter",
         "x": {
          "bdata": "3/It3/ItAUAt4hNIJef1Pyu1Uiu1UvM/WlpaWlpa9j82lNdQXkP5P0FBQUFBQfU/w/UoXI/C9T95DeU1lNfwP3TaQKcNdPo/qOvT9en69D95DeU1lNfwPzaU11BeQ/E/AAAAAACg9T/oeynk5nUAQEN5DeU1lOc/gnW0eZ/i8j8J7iO4j+DuP4q1noTUL/g/rYIbZHPH9T9RXkN5DeXlP1YgjLRjBfI/nhLkKUGe8j9G9AHVsbf2PwSMUk0ed/Y/odnhjKWmAEBDeQ3lNZT3P36x5BdLfgFAO0T3z/dSAEDLhG0QnMr0P3arEF63Cvk/+Ks4ISXP8j+x9g1r37D2PwAAAAAAQPU/eQ3lNZTX8D/hPoL7CO7zPxvKayivofA/tHAGhJI79T8mTv2eW+L0PywVsVTEUvE/i1gqYqmI9T89UDm7hV/9P0UsFbFUxPI/62jzPsUl8z8kpRPgs/v2P6K8hvIayvE/nJubm5ub8z8=",
          "dtype": "f8"
         },
         "xaxis": "x",
         "y": {
          "bdata": "lUzJlEzJ7D8W8QmkkvPyP9ELvdALvfA/RkZGRkZG8j+H8hrKayj/P8TDw8PDw/M/XI/C9Shc9z+9hvIaymv4P2ZmZmZmZvY/J3+Tv8nf9D9OZDeR3UT2P8prKK+hvP4/AAAAAAAg9T8ufzvHx0rrP+U1lNdQXvM/tHmf4pIh9D+vobyG8hr6P0aZiuea1fE/Fdwgmzuu9D9DeQ3lNZT3P72G8hrKa/g/+4a1b1j79j/Vsbc2THP3P9cqG46Y9vQ/A94Jmh3O6D+H8hrKayj/PzptoNMGOu0/ShX1w7Vn6j/Ew8PDw8PzPzMzMzMzM/M/gerYWxum+T9+w9o3rH3zPwAAAAAAYPM/01lMZzGd9T9RXkN5DeX1PzaU11BeQ/k/VVVVVVVV9T/9nlvi1O/xP15DeQ3lNfQ/OEffHH1z9D8/2aor8CjxP5aKWCpiqfg/LhmCdbR59z9VVVVVVVX1PxvKayivofY/09LS0tLS9j8=",
          "dtype": "f8"
         },
         "yaxis": "y"
        }
       ],
       "layout": {
        "coloraxis": {
         "colorbar": {
          "title": {
           "text": "Cluster"
          }
         },
         "colorscale": [
          [
           0,
           "#0d0887"
          ],
          [
           0.1111111111111111,
           "#46039f"
          ],
          [
           0.2222222222222222,
           "#7201a8"
          ],
          [
           0.3333333333333333,
           "#9c179e"
          ],
          [
           0.4444444444444444,
           "#bd3786"
          ],
          [
           0.5555555555555556,
           "#d8576b"
          ],
          [
           0.6666666666666666,
           "#ed7953"
          ],
          [
           0.7777777777777778,
           "#fb9f3a"
          ],
          [
           0.8888888888888888,
           "#fdca26"
          ],
          [
           1,
           "#f0f921"
          ]
         ]
        },
        "legend": {
         "tracegroupgap": 0
        },
        "template": {
         "data": {
          "bar": [
           {
            "error_x": {
             "color": "#2a3f5f"
            },
            "error_y": {
             "color": "#2a3f5f"
            },
            "marker": {
             "line": {
              "color": "#E5ECF6",
              "width": 0.5
             },
             "pattern": {
              "fillmode": "overlay",
              "size": 10,
              "solidity": 0.2
             }
            },
            "type": "bar"
           }
          ],
          "barpolar": [
           {
            "marker": {
             "line": {
              "color": "#E5ECF6",
              "width": 0.5
             },
             "pattern": {
              "fillmode": "overlay",
              "size": 10,
              "solidity": 0.2
             }
            },
            "type": "barpolar"
           }
          ],
          "carpet": [
           {
            "aaxis": {
             "endlinecolor": "#2a3f5f",
             "gridcolor": "white",
             "linecolor": "white",
             "minorgridcolor": "white",
             "startlinecolor": "#2a3f5f"
            },
            "baxis": {
             "endlinecolor": "#2a3f5f",
             "gridcolor": "white",
             "linecolor": "white",
             "minorgridcolor": "white",
             "startlinecolor": "#2a3f5f"
            },
            "type": "carpet"
           }
          ],
          "choropleth": [
           {
            "colorbar": {
             "outlinewidth": 0,
             "ticks": ""
            },
            "type": "choropleth"
           }
          ],
          "contour": [
           {
            "colorbar": {
             "outlinewidth": 0,
             "ticks": ""
            },
            "colorscale": [
             [
              0,
              "#0d0887"
             ],
             [
              0.1111111111111111,
              "#46039f"
             ],
             [
              0.2222222222222222,
              "#7201a8"
             ],
             [
              0.3333333333333333,
              "#9c179e"
             ],
             [
              0.4444444444444444,
              "#bd3786"
             ],
             [
              0.5555555555555556,
              "#d8576b"
             ],
             [
              0.6666666666666666,
              "#ed7953"
             ],
             [
              0.7777777777777778,
              "#fb9f3a"
             ],
             [
              0.8888888888888888,
              "#fdca26"
             ],
             [
              1,
              "#f0f921"
             ]
            ],
            "type": "contour"
           }
          ],
          "contourcarpet": [
           {
            "colorbar": {
             "outlinewidth": 0,
             "ticks": ""
            },
            "type": "contourcarpet"
           }
          ],
          "heatmap": [
           {
            "colorbar": {
             "outlinewidth": 0,
             "ticks": ""
            },
            "colorscale": [
             [
              0,
              "#0d0887"
             ],
             [
              0.1111111111111111,
              "#46039f"
             ],
             [
              0.2222222222222222,
              "#7201a8"
             ],
             [
              0.3333333333333333,
              "#9c179e"
             ],
             [
              0.4444444444444444,
              "#bd3786"
             ],
             [
              0.5555555555555556,
              "#d8576b"
             ],
             [
              0.6666666666666666,
              "#ed7953"
             ],
             [
              0.7777777777777778,
              "#fb9f3a"
             ],
             [
              0.8888888888888888,
              "#fdca26"
             ],
             [
              1,
              "#f0f921"
             ]
            ],
            "type": "heatmap"
           }
          ],
          "histogram": [
           {
            "marker": {
             "pattern": {
              "fillmode": "overlay",
              "size": 10,
              "solidity": 0.2
             }
            },
            "type": "histogram"
           }
          ],
          "histogram2d": [
           {
            "colorbar": {
             "outlinewidth": 0,
             "ticks": ""
            },
            "colorscale": [
             [
              0,
              "#0d0887"
             ],
             [
              0.1111111111111111,
              "#46039f"
             ],
             [
              0.2222222222222222,
              "#7201a8"
             ],
             [
              0.3333333333333333,
              "#9c179e"
             ],
             [
              0.4444444444444444,
              "#bd3786"
             ],
             [
              0.5555555555555556,
              "#d8576b"
             ],
             [
              0.6666666666666666,
              "#ed7953"
             ],
             [
              0.7777777777777778,
              "#fb9f3a"
             ],
             [
              0.8888888888888888,
              "#fdca26"
             ],
             [
              1,
              "#f0f921"
             ]
            ],
            "type": "histogram2d"
           }
          ],
          "histogram2dcontour": [
           {
            "colorbar": {
             "outlinewidth": 0,
             "ticks": ""
            },
            "colorscale": [
             [
              0,
              "#0d0887"
             ],
             [
              0.1111111111111111,
              "#46039f"
             ],
             [
              0.2222222222222222,
              "#7201a8"
             ],
             [
              0.3333333333333333,
              "#9c179e"
             ],
             [
              0.4444444444444444,
              "#bd3786"
             ],
             [
              0.5555555555555556,
              "#d8576b"
             ],
             [
              0.6666666666666666,
              "#ed7953"
             ],
             [
              0.7777777777777778,
              "#fb9f3a"
             ],
             [
              0.8888888888888888,
              "#fdca26"
             ],
             [
              1,
              "#f0f921"
             ]
            ],
            "type": "histogram2dcontour"
           }
          ],
          "mesh3d": [
           {
            "colorbar": {
             "outlinewidth": 0,
             "ticks": ""
            },
            "type": "mesh3d"
           }
          ],
          "parcoords": [
           {
            "line": {
             "colorbar": {
              "outlinewidth": 0,
              "ticks": ""
             }
            },
            "type": "parcoords"
           }
          ],
          "pie": [
           {
            "automargin": true,
            "type": "pie"
           }
          ],
          "scatter": [
           {
            "fillpattern": {
             "fillmode": "overlay",
             "size": 10,
             "solidity": 0.2
            },
            "type": "scatter"
           }
          ],
          "scatter3d": [
           {
            "line": {
             "colorbar": {
              "outlinewidth": 0,
              "ticks": ""
             }
            },
            "marker": {
             "colorbar": {
              "outlinewidth": 0,
              "ticks": ""
             }
            },
            "type": "scatter3d"
           }
          ],
          "scattercarpet": [
           {
            "marker": {
             "colorbar": {
              "outlinewidth": 0,
              "ticks": ""
             }
            },
            "type": "scattercarpet"
           }
          ],
          "scattergeo": [
           {
            "marker": {
             "colorbar": {
              "outlinewidth": 0,
              "ticks": ""
             }
            },
            "type": "scattergeo"
           }
          ],
          "scattergl": [
           {
            "marker": {
             "colorbar": {
              "outlinewidth": 0,
              "ticks": ""
             }
            },
            "type": "scattergl"
           }
          ],
          "scattermap": [
           {
            "marker": {
             "colorbar": {
              "outlinewidth": 0,
              "ticks": ""
             }
            },
            "type": "scattermap"
           }
          ],
          "scattermapbox": [
           {
            "marker": {
             "colorbar": {
              "outlinewidth": 0,
              "ticks": ""
             }
            },
            "type": "scattermapbox"
           }
          ],
          "scatterpolar": [
           {
            "marker": {
             "colorbar": {
              "outlinewidth": 0,
              "ticks": ""
             }
            },
            "type": "scatterpolar"
           }
          ],
          "scatterpolargl": [
           {
            "marker": {
             "colorbar": {
              "outlinewidth": 0,
              "ticks": ""
             }
            },
            "type": "scatterpolargl"
           }
          ],
          "scatterternary": [
           {
            "marker": {
             "colorbar": {
              "outlinewidth": 0,
              "ticks": ""
             }
            },
            "type": "scatterternary"
           }
          ],
          "surface": [
           {
            "colorbar": {
             "outlinewidth": 0,
             "ticks": ""
            },
            "colorscale": [
             [
              0,
              "#0d0887"
             ],
             [
              0.1111111111111111,
              "#46039f"
             ],
             [
              0.2222222222222222,
              "#7201a8"
             ],
             [
              0.3333333333333333,
              "#9c179e"
             ],
             [
              0.4444444444444444,
              "#bd3786"
             ],
             [
              0.5555555555555556,
              "#d8576b"
             ],
             [
              0.6666666666666666,
              "#ed7953"
             ],
             [
              0.7777777777777778,
              "#fb9f3a"
             ],
             [
              0.8888888888888888,
              "#fdca26"
             ],
             [
              1,
              "#f0f921"
             ]
            ],
            "type": "surface"
           }
          ],
          "table": [
           {
            "cells": {
             "fill": {
              "color": "#EBF0F8"
             },
             "line": {
              "color": "white"
             }
            },
            "header": {
             "fill": {
              "color": "#C8D4E3"
             },
             "line": {
              "color": "white"
             }
            },
            "type": "table"
           }
          ]
         },
         "layout": {
          "annotationdefaults": {
           "arrowcolor": "#2a3f5f",
           "arrowhead": 0,
           "arrowwidth": 1
          },
          "autotypenumbers": "strict",
          "coloraxis": {
           "colorbar": {
            "outlinewidth": 0,
            "ticks": ""
           }
          },
          "colorscale": {
           "diverging": [
            [
             0,
             "#8e0152"
            ],
            [
             0.1,
             "#c51b7d"
            ],
            [
             0.2,
             "#de77ae"
            ],
            [
             0.3,
             "#f1b6da"
            ],
            [
             0.4,
             "#fde0ef"
            ],
            [
             0.5,
             "#f7f7f7"
            ],
            [
             0.6,
             "#e6f5d0"
            ],
            [
             0.7,
             "#b8e186"
            ],
            [
             0.8,
             "#7fbc41"
            ],
            [
             0.9,
             "#4d9221"
            ],
            [
             1,
             "#276419"
            ]
           ],
           "sequential": [
            [
             0,
             "#0d0887"
            ],
            [
             0.1111111111111111,
             "#46039f"
            ],
            [
             0.2222222222222222,
             "#7201a8"
            ],
            [
             0.3333333333333333,
             "#9c179e"
            ],
            [
             0.4444444444444444,
             "#bd3786"
            ],
            [
             0.5555555555555556,
             "#d8576b"
            ],
            [
             0.6666666666666666,
             "#ed7953"
            ],
            [
             0.7777777777777778,
             "#fb9f3a"
            ],
            [
             0.8888888888888888,
             "#fdca26"
            ],
            [
             1,
             "#f0f921"
            ]
           ],
           "sequentialminus": [
            [
             0,
             "#0d0887"
            ],
            [
             0.1111111111111111,
             "#46039f"
            ],
            [
             0.2222222222222222,
             "#7201a8"
            ],
            [
             0.3333333333333333,
             "#9c179e"
            ],
            [
             0.4444444444444444,
             "#bd3786"
            ],
            [
             0.5555555555555556,
             "#d8576b"
            ],
            [
             0.6666666666666666,
             "#ed7953"
            ],
            [
             0.7777777777777778,
             "#fb9f3a"
            ],
            [
             0.8888888888888888,
             "#fdca26"
            ],
            [
             1,
             "#f0f921"
            ]
           ]
          },
          "colorway": [
           "#636efa",
           "#EF553B",
           "#00cc96",
           "#ab63fa",
           "#FFA15A",
           "#19d3f3",
           "#FF6692",
           "#B6E880",
           "#FF97FF",
           "#FECB52"
          ],
          "font": {
           "color": "#2a3f5f"
          },
          "geo": {
           "bgcolor": "white",
           "lakecolor": "white",
           "landcolor": "#E5ECF6",
           "showlakes": true,
           "showland": true,
           "subunitcolor": "white"
          },
          "hoverlabel": {
           "align": "left"
          },
          "hovermode": "closest",
          "mapbox": {
           "style": "light"
          },
          "paper_bgcolor": "white",
          "plot_bgcolor": "#E5ECF6",
          "polar": {
           "angularaxis": {
            "gridcolor": "white",
            "linecolor": "white",
            "ticks": ""
           },
           "bgcolor": "#E5ECF6",
           "radialaxis": {
            "gridcolor": "white",
            "linecolor": "white",
            "ticks": ""
           }
          },
          "scene": {
           "xaxis": {
            "backgroundcolor": "#E5ECF6",
            "gridcolor": "white",
            "gridwidth": 2,
            "linecolor": "white",
            "showbackground": true,
            "ticks": "",
            "zerolinecolor": "white"
           },
           "yaxis": {
            "backgroundcolor": "#E5ECF6",
            "gridcolor": "white",
            "gridwidth": 2,
            "linecolor": "white",
            "showbackground": true,
            "ticks": "",
            "zerolinecolor": "white"
           },
           "zaxis": {
            "backgroundcolor": "#E5ECF6",
            "gridcolor": "white",
            "gridwidth": 2,
            "linecolor": "white",
            "showbackground": true,
            "ticks": "",
            "zerolinecolor": "white"
           }
          },
          "shapedefaults": {
           "line": {
            "color": "#2a3f5f"
           }
          },
          "ternary": {
           "aaxis": {
            "gridcolor": "white",
            "linecolor": "white",
            "ticks": ""
           },
           "baxis": {
            "gridcolor": "white",
            "linecolor": "white",
            "ticks": ""
           },
           "bgcolor": "#E5ECF6",
           "caxis": {
            "gridcolor": "white",
            "linecolor": "white",
            "ticks": ""
           }
          },
          "title": {
           "x": 0.05
          },
          "xaxis": {
           "automargin": true,
           "gridcolor": "white",
           "linecolor": "white",
           "ticks": "",
           "title": {
            "standoff": 15
           },
           "zerolinecolor": "white",
           "zerolinewidth": 2
          },
          "yaxis": {
           "automargin": true,
           "gridcolor": "white",
           "linecolor": "white",
           "ticks": "",
           "title": {
            "standoff": 15
           },
           "zerolinecolor": "white",
           "zerolinewidth": 2
          }
         }
        },
        "title": {
         "text": "🧠 Team Clusters by Avg Goals"
        },
        "xaxis": {
         "anchor": "y",
         "domain": [
          0,
          1
         ],
         "title": {
          "text": "Avg Home Goals"
         }
        },
        "yaxis": {
         "anchor": "x",
         "domain": [
          0,
          1
         ],
         "title": {
          "text": "Avg Away Goals"
         }
        }
       }
      }
     },
     "metadata": {},
     "output_type": "display_data"
    }
   ],
   "source": [
    "from sklearn.preprocessing import StandardScaler\n",
    "from sklearn.cluster import KMeans\n",
    "\n",
    "team_stats = df.groupby('HomeTeam').agg({\n",
    "    'FullTimeHomeGoals': 'mean',\n",
    "    'Home_xG': 'mean',\n",
    "    'FullTimeAwayGoals': 'mean',\n",
    "    'Away_xG': 'mean'\n",
    "}).dropna().reset_index()\n",
    "\n",
    "scaler = StandardScaler()\n",
    "scaled_stats = scaler.fit_transform(team_stats[['FullTimeHomeGoals', 'FullTimeAwayGoals']])\n",
    "\n",
    "kmeans = KMeans(n_clusters=3, random_state=42, n_init=10)\n",
    "team_stats['Cluster'] = kmeans.fit_predict(scaled_stats)\n",
    "\n",
    "fig = px.scatter(team_stats, x='FullTimeHomeGoals', y='FullTimeAwayGoals', text='HomeTeam',\n",
    "                 color='Cluster', title=\"🧠 Team Clusters by Avg Goals\",\n",
    "                 labels={\"FullTimeHomeGoals\": \"Avg Home Goals\", \"FullTimeAwayGoals\": \"Avg Away Goals\"})\n",
    "fig.show()\n"
   ]
  },
  {
   "cell_type": "markdown",
   "id": "15a8d86f",
   "metadata": {},
   "source": [
    "- Clusters can reveal \"high-scoring\" teams, \"defensive\" teams, and balanced teams. \n",
    "- Use more features (xG, shots, possession) for richer clustering and interpretation."
   ]
  },
  {
   "cell_type": "markdown",
   "id": "0bf33c0a",
   "metadata": {},
   "source": [
    "---"
   ]
  },
  {
   "cell_type": "markdown",
   "id": "50feac46",
   "metadata": {},
   "source": [
    "# Section 15: Summary of the Data Visualisation EPL analysis\n",
    "The English Premier League (EPL) analysis reveals several key patterns across performance, scoring, and style. Home teams hold a clear advantage, consistently scoring more and winning more frequently. Most matches produce 2–3 goals, with occasional high-scoring outliers, and seasonal trends show slight goal dips in winter months. A few top-scoring teams dominate both home and away fixtures, while goal difference heatmaps highlight the strongest clubs’ home dominance. Points-per-match rankings reveal steady elite performers, contrasted by greater variability in mid-table sides. Cumulative points timelines show momentum swings over a season, and xG vs. actual goals comparisons uncover over- and under-performers, offering scouting insights. Clustering further categorizes teams into high-scoring, defensive, and balanced profiles, providing a clear view of differing playing styles.\n"
   ]
  },
  {
   "cell_type": "markdown",
   "id": "dbe9789c",
   "metadata": {},
   "source": [
    "---"
   ]
  }
 ],
 "metadata": {
  "kernelspec": {
   "display_name": ".venv",
   "language": "python",
   "name": "python3"
  },
  "language_info": {
   "codemirror_mode": {
    "name": "ipython",
    "version": 3
   },
   "file_extension": ".py",
   "mimetype": "text/x-python",
   "name": "python",
   "nbconvert_exporter": "python",
   "pygments_lexer": "ipython3",
   "version": "3.12.8"
  }
 },
 "nbformat": 4,
 "nbformat_minor": 5
}
